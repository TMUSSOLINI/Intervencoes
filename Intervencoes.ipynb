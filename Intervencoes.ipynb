{
 "cells": [
  {
   "cell_type": "code",
   "execution_count": null,
   "metadata": {},
   "outputs": [],
   "source": []
  }
 ],
 "metadata": {
  "kernelspec": {
   "display_name": "Python 3",
   "language": "python",
   "name": "python3"
  },
  "language_info": {
   "name": "python",
   "version": "3.10.9"
  },
  "orig_nbformat": 4,
  "vscode": {
   "interpreter": {
    "hash": "c382dc940b8685aa81f2c215d25dcdaa5c83df37ced05d9ed4e8edc67801d350"
   }
  }
 },
 "nbformat": 4,
 "nbformat_minor": 2
}
