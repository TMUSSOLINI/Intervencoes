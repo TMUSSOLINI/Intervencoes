{
 "cells": [
  {
   "cell_type": "code",
   "execution_count": 19,
   "metadata": {},
   "outputs": [],
   "source": [
    "import pandas as pd\n",
    "import glob\n",
    "import csv\n",
    "import warnings\n",
    "import datetime as dt\n",
    "import numpy as np\n",
    "\n",
    "warnings.filterwarnings('ignore', category=UserWarning, module='openpyxl')\n",
    "pd.set_option('display.max_columns', 500)"
   ]
  },
  {
   "cell_type": "code",
   "execution_count": 20,
   "metadata": {},
   "outputs": [
    {
     "data": {
      "text/plain": [
       "['C:\\\\Users\\\\lindomar.francisco\\\\Desktop\\\\py-obras\\\\L01_AB - PLAN-PROG-SEMANAL-OBRAS-26-12-22_01-01-23.xlsx',\n",
       " 'C:\\\\Users\\\\lindomar.francisco\\\\Desktop\\\\py-obras\\\\L03_PLAN-PROG-SEMANAL-OBRAS- 26-12-2022 a 01-01-2023.xlsx',\n",
       " 'C:\\\\Users\\\\lindomar.francisco\\\\Desktop\\\\py-obras\\\\L06_PLAN-PROG-SEMANAL-OBRAS-26-12-22-01-01-23_ARTESP.xlsx',\n",
       " 'C:\\\\Users\\\\lindomar.francisco\\\\Desktop\\\\py-obras\\\\L07_Cópia de Programação de Obras 26.12.2022 a 01.01.2023.xlsx',\n",
       " 'C:\\\\Users\\\\lindomar.francisco\\\\Desktop\\\\py-obras\\\\L09_PLAN-PROG-SEMANAL-OBRAS-26-12-22-01-01-23.xlsx',\n",
       " 'C:\\\\Users\\\\lindomar.francisco\\\\Desktop\\\\py-obras\\\\L11_LOTE11_PLAN-PROG-SEMANAL-OBRAS-26-12-22_a_01-01-23.xlsx',\n",
       " 'C:\\\\Users\\\\lindomar.francisco\\\\Desktop\\\\py-obras\\\\L12_VO - PLAN-PROG-SEMANAL-OBRAS-26-12-22_01-01-23.xlsx',\n",
       " 'C:\\\\Users\\\\lindomar.francisco\\\\Desktop\\\\py-obras\\\\L13_052_PLAN-PROG-SEMANAL-OBRAS-26-12-22-01-01-23.xlsx',\n",
       " 'C:\\\\Users\\\\lindomar.francisco\\\\Desktop\\\\py-obras\\\\L16_PLAN-PROG-SEMANAL-OBRAS-26-12-22 a 01-01-23_Final.xlsx',\n",
       " 'C:\\\\Users\\\\lindomar.francisco\\\\Desktop\\\\py-obras\\\\L19_PLAN-PROG-SEMANAL-OBRAS-26-12 a 01-01.xlsx',\n",
       " 'C:\\\\Users\\\\lindomar.francisco\\\\Desktop\\\\py-obras\\\\L20_SV - PLAN-PROG-SEMANAL-OBRAS-26-12-22_01-01-23.xlsx',\n",
       " 'C:\\\\Users\\\\lindomar.francisco\\\\Desktop\\\\py-obras\\\\L21_PLAN-PROG-SEMANAL-OBRAS - 26-12-2022 a 01-01-2023.xlsx',\n",
       " 'C:\\\\Users\\\\lindomar.francisco\\\\Desktop\\\\py-obras\\\\L22_Planilha -  Programacao de Obras e Servicos 26.12.2022 a 01.01.2023.xlsx',\n",
       " 'C:\\\\Users\\\\lindomar.francisco\\\\Desktop\\\\py-obras\\\\L23_PLAN-PROG-SEMANAL-OBRAS-26-12-22 a 01-01-23.xlsx',\n",
       " 'C:\\\\Users\\\\lindomar.francisco\\\\Desktop\\\\py-obras\\\\L24_RA - PLAN-PROG-SEMANAL-OBRAS-26-12-22_01-01-23.xlsx',\n",
       " 'C:\\\\Users\\\\lindomar.francisco\\\\Desktop\\\\py-obras\\\\L25_ENG_PLAN-PROG-SEMANAL-OBRAS-26-12-22_01-01-23.xlsx',\n",
       " 'C:\\\\Users\\\\lindomar.francisco\\\\Desktop\\\\py-obras\\\\L25_TI_PLAN-PROG-SEMANAL-OBRAS-26-12-2022 a 01-01-2023.xlsx',\n",
       " 'C:\\\\Users\\\\lindomar.francisco\\\\Desktop\\\\py-obras\\\\L27_104 - PLAN-PROG-SEMANAL-OBRAS-26-12-22-01-01-23.xlsx',\n",
       " 'C:\\\\Users\\\\lindomar.francisco\\\\Desktop\\\\py-obras\\\\L28_Programação Semanal - 26.12.22 a 01.01.23-rev1.xlsx',\n",
       " 'C:\\\\Users\\\\lindomar.francisco\\\\Desktop\\\\py-obras\\\\L29_267.Programação - 26-12-2022 a 01-01-2023.xlsx',\n",
       " 'C:\\\\Users\\\\lindomar.francisco\\\\Desktop\\\\py-obras\\\\L30_PROG-SEMANAL-OBRAS-26-12-22-01-01-23.xlsx']"
      ]
     },
     "execution_count": 20,
     "metadata": {},
     "output_type": "execute_result"
    }
   ],
   "source": [
    "obras = glob.glob(r\"C:\\Users\\lindomar.francisco\\Desktop\\py-obras\\*.xlsx\") \n",
    "obras "
   ]
  },
  {
   "cell_type": "code",
   "execution_count": 21,
   "metadata": {},
   "outputs": [],
   "source": [
    "cabecalho = ['LOTE', 'RODOVIA', 'CÓD. DO SERVIÇO', 'DETALHAMENTO DO SERVIÇO',\n",
    "       'KM INICIAL', 'LAT KM INICIAL', 'LON KM INICIAL', 'KM FINAL',\n",
    "       'LAT KM FINAL', 'LON KM FINAL', 'SENTIDO', 'DATA INÍCIO', 'HORA INÍCIO',\n",
    "       'DATA FIM', 'HORA FIM', 'FI1', 'FI2', 'FI3', 'FI4', 'FI5', 'FI6',\n",
    "       'FIAC', 'ALT.', 'EMPRESA RESPONSÁVEL',\n",
    "       'RESPONSÁVEL TÉCNICO PELA OPERAÇÃO VIÁRIA',\n",
    "       'ART DO RESPONSÁVEL TÉCNICO', 'NÍVEL DE SERVIÇO C/ INTERVENÇÃO',\n",
    "       'APOIO PMRV', 'MUNICÍPIO', 'OBSERVAÇÕES GERAIS']"
   ]
  },
  {
   "cell_type": "code",
   "execution_count": 22,
   "metadata": {},
   "outputs": [
    {
     "name": "stdout",
     "output_type": "stream",
     "text": [
      "planilha:  C:\\Users\\lindomar.francisco\\Desktop\\py-obras\\L01_AB - PLAN-PROG-SEMANAL-OBRAS-26-12-22_01-01-23.xlsx\n",
      "extensao:  xlsx\n",
      "planilha:  C:\\Users\\lindomar.francisco\\Desktop\\py-obras\\L03_PLAN-PROG-SEMANAL-OBRAS- 26-12-2022 a 01-01-2023.xlsx\n",
      "extensao:  xlsx\n",
      "planilha:  C:\\Users\\lindomar.francisco\\Desktop\\py-obras\\L06_PLAN-PROG-SEMANAL-OBRAS-26-12-22-01-01-23_ARTESP.xlsx\n",
      "extensao:  xlsx\n",
      "planilha:  C:\\Users\\lindomar.francisco\\Desktop\\py-obras\\L07_Cópia de Programação de Obras 26.12.2022 a 01.01.2023.xlsx\n",
      "extensao:  xlsx\n",
      "planilha:  C:\\Users\\lindomar.francisco\\Desktop\\py-obras\\L09_PLAN-PROG-SEMANAL-OBRAS-26-12-22-01-01-23.xlsx\n",
      "extensao:  xlsx\n",
      "planilha:  C:\\Users\\lindomar.francisco\\Desktop\\py-obras\\L11_LOTE11_PLAN-PROG-SEMANAL-OBRAS-26-12-22_a_01-01-23.xlsx\n",
      "extensao:  xlsx\n",
      "planilha:  C:\\Users\\lindomar.francisco\\Desktop\\py-obras\\L12_VO - PLAN-PROG-SEMANAL-OBRAS-26-12-22_01-01-23.xlsx\n",
      "extensao:  xlsx\n",
      "planilha:  C:\\Users\\lindomar.francisco\\Desktop\\py-obras\\L13_052_PLAN-PROG-SEMANAL-OBRAS-26-12-22-01-01-23.xlsx\n",
      "extensao:  xlsx\n",
      "planilha:  C:\\Users\\lindomar.francisco\\Desktop\\py-obras\\L16_PLAN-PROG-SEMANAL-OBRAS-26-12-22 a 01-01-23_Final.xlsx\n",
      "extensao:  xlsx\n",
      "planilha:  C:\\Users\\lindomar.francisco\\Desktop\\py-obras\\L19_PLAN-PROG-SEMANAL-OBRAS-26-12 a 01-01.xlsx\n",
      "extensao:  xlsx\n",
      "planilha:  C:\\Users\\lindomar.francisco\\Desktop\\py-obras\\L20_SV - PLAN-PROG-SEMANAL-OBRAS-26-12-22_01-01-23.xlsx\n",
      "extensao:  xlsx\n",
      "planilha:  C:\\Users\\lindomar.francisco\\Desktop\\py-obras\\L21_PLAN-PROG-SEMANAL-OBRAS - 26-12-2022 a 01-01-2023.xlsx\n",
      "extensao:  xlsx\n",
      "planilha:  C:\\Users\\lindomar.francisco\\Desktop\\py-obras\\L22_Planilha -  Programacao de Obras e Servicos 26.12.2022 a 01.01.2023.xlsx\n",
      "extensao:  xlsx\n",
      "planilha:  C:\\Users\\lindomar.francisco\\Desktop\\py-obras\\L23_PLAN-PROG-SEMANAL-OBRAS-26-12-22 a 01-01-23.xlsx\n",
      "extensao:  xlsx\n",
      "planilha:  C:\\Users\\lindomar.francisco\\Desktop\\py-obras\\L24_RA - PLAN-PROG-SEMANAL-OBRAS-26-12-22_01-01-23.xlsx\n",
      "extensao:  xlsx\n",
      "planilha:  C:\\Users\\lindomar.francisco\\Desktop\\py-obras\\L25_ENG_PLAN-PROG-SEMANAL-OBRAS-26-12-22_01-01-23.xlsx\n",
      "extensao:  xlsx\n",
      "planilha:  C:\\Users\\lindomar.francisco\\Desktop\\py-obras\\L25_TI_PLAN-PROG-SEMANAL-OBRAS-26-12-2022 a 01-01-2023.xlsx\n",
      "extensao:  xlsx\n",
      "planilha:  C:\\Users\\lindomar.francisco\\Desktop\\py-obras\\L27_104 - PLAN-PROG-SEMANAL-OBRAS-26-12-22-01-01-23.xlsx\n",
      "extensao:  xlsx\n",
      "planilha:  C:\\Users\\lindomar.francisco\\Desktop\\py-obras\\L28_Programação Semanal - 26.12.22 a 01.01.23-rev1.xlsx\n",
      "extensao:  xlsx\n",
      "planilha:  C:\\Users\\lindomar.francisco\\Desktop\\py-obras\\L29_267.Programação - 26-12-2022 a 01-01-2023.xlsx\n",
      "extensao:  xlsx\n",
      "planilha:  C:\\Users\\lindomar.francisco\\Desktop\\py-obras\\L30_PROG-SEMANAL-OBRAS-26-12-22-01-01-23.xlsx\n",
      "extensao:  xlsx\n"
     ]
    }
   ],
   "source": [
    "df_lista=[]\n",
    "for obra in obras:\n",
    "    print(\"planilha: \", obra)\n",
    "    extensao = obra.split('.')[-1]\n",
    "    print(\"extensao: \", extensao)\n",
    "    df= pd.read_excel(\n",
    "        obra, sheet_name=\"DADOS\", \n",
    "        dtype={'DATA INÍCIO': object, 'DATA FIM': object, 'OBSERVAÇÕES GERAIS': object, 'DETALHAMENTO DO SERVIÇO': object, 'EMPRESA RESPONSÁVEL': object,\n",
    "        'RESPONSÁVEL TÉCNICO PELA OPERAÇÃO VIÁRIA': object, 'APOIO PMRV': object, 'MUNICÍPIO': object, 'ART DO RESPONSÁVEL TÉCNICO': object},\n",
    "        names=cabecalho, usecols=[x for x in range(30)]\n",
    "    )\n",
    "    df = df[~(df.LOTE.isnull())]\n",
    "    data2 = pd.to_datetime(df['DATA FIM'], errors='coerce', format='%Y-%m-%d %H:%M:%S')\n",
    "    df['DATA FIM'] = pd.to_datetime(df['DATA FIM'], errors='coerce', format='%d/%m/%Y')\n",
    "    df['DATA FIM'] = df['DATA FIM'].fillna(data2)    \n",
    "    data2 = pd.to_datetime(df['DATA INÍCIO'], errors='coerce', format='%Y-%m-%d %H:%M:%S')\n",
    "    df['DATA INÍCIO'] = pd.to_datetime(df['DATA INÍCIO'], errors='coerce', format='%d/%m/%Y')\n",
    "    df['DATA INÍCIO'] = df['DATA INÍCIO'].fillna(data2)\n",
    "    df['KM INICIAL'] = df['KM INICIAL'].apply(lambda valor: str(valor).replace('+', ''))\n",
    "    df['KM FINAL'] = df['KM FINAL'].apply(lambda valor: str(valor).replace('+', ''))\n",
    "    df['KM INICIAL'] = df['KM INICIAL'].apply(lambda valor: str(valor).replace(',', ''))\n",
    "    df['KM FINAL'] = df['KM FINAL'].apply(lambda valor: str(valor).replace(',', ''))\n",
    "    df['KM INICIAL'] = pd.to_numeric(df['KM INICIAL'], errors='coerce')\n",
    "    df['KM FINAL'] = pd.to_numeric(df['KM FINAL'], errors='coerce')\n",
    "    df['KM INICIAL'] = df['KM INICIAL'] / 1000\n",
    "    df['KM FINAL'] = df['KM FINAL'] / 1000\n",
    "    df['OBSERVAÇÕES GERAIS'] = df['OBSERVAÇÕES GERAIS'].replace(r'\\s+|\\\\n', ' ', regex=True)\n",
    "    df['DETALHAMENTO DO SERVIÇO'] = df['DETALHAMENTO DO SERVIÇO'].replace(r'\\s+|\\\\n', ' ', regex=True)\n",
    "    df['EMPRESA RESPONSÁVEL'] = df['EMPRESA RESPONSÁVEL'].replace(r'\\s+|\\\\n', ' ', regex=True)\n",
    "    df['RESPONSÁVEL TÉCNICO PELA OPERAÇÃO VIÁRIA'] = df['RESPONSÁVEL TÉCNICO PELA OPERAÇÃO VIÁRIA'].replace(r'\\s+|\\\\n', ' ', regex=True)\n",
    "    df['APOIO PMRV'] = df['APOIO PMRV'].replace(r'\\s+|\\\\n', ' ', regex=True)\n",
    "    df['MUNICÍPIO'] = df['MUNICÍPIO'].replace(r'\\s+|\\\\n', ' ', regex=True)\n",
    "    df = df.iloc[:, :30]\n",
    "    df_rodovia_nulo = df['RODOVIA'].isnull()\n",
    "    df= df[~df_rodovia_nulo]\n",
    "    df_lista.append(df)"
   ]
  },
  {
   "cell_type": "code",
   "execution_count": 23,
   "metadata": {},
   "outputs": [],
   "source": [
    "df_obras = pd.concat(df_lista, axis=0, ignore_index=True)\n"
   ]
  },
  {
   "cell_type": "code",
   "execution_count": 24,
   "metadata": {},
   "outputs": [],
   "source": [
    "df_obras.reset_index(drop=True, inplace=True)"
   ]
  },
  {
   "cell_type": "code",
   "execution_count": 25,
   "metadata": {},
   "outputs": [],
   "source": [
    "df_obras[\"LOTE\"] = df_obras[\"LOTE\"].astype(int)"
   ]
  },
  {
   "cell_type": "code",
   "execution_count": 26,
   "metadata": {},
   "outputs": [],
   "source": [
    "df_obras['MUNICÍPIO'] = df_obras['MUNICÍPIO'].str.normalize('NFKD').str.encode('ascii', errors='ignore').str.decode('utf-8')"
   ]
  },
  {
   "cell_type": "code",
   "execution_count": 27,
   "metadata": {},
   "outputs": [],
   "source": [
    "df_obras['SENTIDO'] = df_obras['SENTIDO'].apply(lambda valor: str(valor).replace('OL','LO'))\n",
    "df_obras['SENTIDO'] = df_obras['SENTIDO'].apply(lambda valor: str(valor).replace('IE','EI'))\n",
    "df_obras['SENTIDO'] = df_obras['SENTIDO'].apply(lambda valor: str(valor).replace('SN','NS'))\n",
    "df_obras['SENTIDO'] = df_obras['SENTIDO'].apply(lambda valor: str(valor).replace('Leste','L'))\n",
    "df_obras['SENTIDO'] = df_obras['SENTIDO'].apply(lambda valor: str(valor).replace('Norte','N'))\n",
    "df_obras['SENTIDO'] = df_obras['SENTIDO'].apply(lambda valor: str(valor).replace('Oeste','O'))\n",
    "df_obras['SENTIDO'] = df_obras['SENTIDO'].apply(lambda valor: str(valor).replace('Sul','S'))\n",
    "df_obras['SENTIDO'] = df_obras['SENTIDO'].apply(lambda valor: str(valor).replace('Leste / Oeste','LO'))\n",
    "df_obras['SENTIDO'] = df_obras['SENTIDO'].apply(lambda valor: str(valor).replace('Norte / Sul','NS'))\n",
    "df_obras['SENTIDO'] = df_obras['SENTIDO'].apply(lambda valor: str(valor).replace('NN','N'))\n",
    "df_obras['SENTIDO'] = df_obras['SENTIDO'].apply(lambda valor: str(valor).replace('SS','S'))\n",
    "df_obras['MUNICÍPIO'] = df_obras['MUNICÍPIO'].apply(lambda valor: str(valor).replace('-SP',''))\n",
    "df_obras['MUNICÍPIO'] = df_obras['MUNICÍPIO'].apply(lambda valor: str(valor).replace(' -SP',''))\n",
    "df_obras['MUNICÍPIO'] = df_obras['MUNICÍPIO'].apply(lambda valor: str(valor).replace(' - SP',''))\n",
    "df_obras['MUNICÍPIO'] = df_obras['MUNICÍPIO'].apply(lambda valor: valor.split('/')[0])\n",
    "df_obras['NÍVEL DE SERVIÇO C/ INTERVENÇÃO'] = df_obras['NÍVEL DE SERVIÇO C/ INTERVENÇÃO'].replace(np.nan,'NÃO INFORMADO')\n",
    "df_obras['MUNICÍPIO'] = df_obras['MUNICÍPIO'].str.upper()\n",
    "df_obras['OBSERVAÇÕES GERAIS'] = df_obras['OBSERVAÇÕES GERAIS'].str.upper()\n",
    "df_obras['RODOVIA'] = df_obras['RODOVIA'].str.upper()\n",
    "df_obras['DETALHAMENTO DO SERVIÇO'] = df_obras['DETALHAMENTO DO SERVIÇO'].str.upper()\n",
    "df_obras['APOIO PMRV'] = df_obras['APOIO PMRV'].str.upper()\n",
    "df_obras['NÍVEL DE SERVIÇO C/ INTERVENÇÃO'] = df_obras['NÍVEL DE SERVIÇO C/ INTERVENÇÃO'].str.upper()\n",
    "df_obras['RESPONSÁVEL TÉCNICO PELA OPERAÇÃO VIÁRIA'] = df_obras['RESPONSÁVEL TÉCNICO PELA OPERAÇÃO VIÁRIA'].str.upper()\n",
    "df_obras['EMPRESA RESPONSÁVEL'] = df_obras['EMPRESA RESPONSÁVEL'].str.upper()\n",
    "df_obras['SENTIDO'] = df_obras['SENTIDO'].str.upper()\n",
    "df_obras['FI1'] = df_obras['FI1'].str.upper()\n",
    "df_obras['FI2'] = df_obras['FI2'].str.upper()\n",
    "df_obras['FI3'] = df_obras['FI3'].str.upper()\n",
    "df_obras['FI4'] = df_obras['FI4'].str.upper()\n",
    "df_obras['FI5'] = df_obras['FI5'].str.upper()\n",
    "df_obras['FI6'] = df_obras['FI6'].str.upper()\n",
    "df_obras['FIAC'] = df_obras['FIAC'].str.upper()\n",
    "df_obras['FI1'] = df_obras['FI1'].apply(lambda valor: str(valor).replace('S','1'))\n",
    "df_obras['FI2'] = df_obras['FI2'].apply(lambda valor: str(valor).replace('S','2'))\n",
    "df_obras['FI3'] = df_obras['FI3'].apply(lambda valor: str(valor).replace('S','3'))\n",
    "df_obras['FI4'] = df_obras['FI4'].apply(lambda valor: str(valor).replace('S','4'))\n",
    "df_obras['FI5'] = df_obras['FI5'].apply(lambda valor: str(valor).replace('S','5'))\n",
    "df_obras['FI6'] = df_obras['FI6'].apply(lambda valor: str(valor).replace('S','6'))\n",
    "df_obras['FIAC'] = df_obras['FIAC'].apply(lambda valor: str(valor).replace('S','ACOS'))\n",
    "df_obras['FAIXAS INTERDITADAS'] = df_obras['FI1'] + ',' + df_obras['FI2'] + ',' + df_obras['FI3'] + ','+ df_obras['FI4'] + ',' + df_obras['FI5'] + ',' + df_obras['FI6'] + ',' + df_obras['FIAC']"
   ]
  },
  {
   "cell_type": "code",
   "execution_count": 28,
   "metadata": {},
   "outputs": [],
   "source": [
    "df_obras['FAIXAS INTERDITADAS'] = df_obras['FAIXAS INTERDITADAS'].apply(lambda valor: str(valor).replace('N','NENHUMA'))\n",
    "df_obras['FAIXAS INTERDITADAS'] = df_obras['FAIXAS INTERDITADAS'].apply(lambda valor: str(valor).replace('6NENHUMA','6'))\n",
    "df_obras['FAIXAS INTERDITADAS'] = df_obras['FAIXAS INTERDITADAS'].apply(lambda valor: str(valor).replace('4NENHUMA','4'))\n",
    "df_obras['FAIXAS INTERDITADAS'] = df_obras['FAIXAS INTERDITADAS'].apply(lambda valor: str(valor).replace('3NENHUMA','3'))\n",
    "df_obras['FAIXAS INTERDITADAS'] = df_obras['FAIXAS INTERDITADAS'].apply(lambda valor: str(valor).replace('2NENHUMA','2'))\n",
    "df_obras['FAIXAS INTERDITADAS'] = df_obras['FAIXAS INTERDITADAS'].apply(lambda valor: str(valor).replace('1NENHUMA','1'))\n",
    "df_obras['FAIXAS INTERDITADAS'] = df_obras['FAIXAS INTERDITADAS'].apply(lambda valor: str(valor).replace('NENHUMA,',''))\n",
    "df_obras['FAIXAS INTERDITADAS'] = df_obras['FAIXAS INTERDITADAS'].apply(lambda valor: str(valor).replace('1,NENHUMA','1'))\n",
    "df_obras['FAIXAS INTERDITADAS'] = df_obras['FAIXAS INTERDITADAS'].apply(lambda valor: str(valor).replace('2,NENHUMA','2'))\n",
    "df_obras['FAIXAS INTERDITADAS'] = df_obras['FAIXAS INTERDITADAS'].apply(lambda valor: str(valor).replace('3,NENHUMA','3'))\n",
    "df_obras['FAIXAS INTERDITADAS'] = df_obras['FAIXAS INTERDITADAS'].apply(lambda valor: str(valor).replace('4,NENHUMA','4'))\n",
    "df_obras['FAIXAS INTERDITADAS'] = df_obras['FAIXAS INTERDITADAS'].apply(lambda valor: str(valor).replace('5,NENHUMA','5'))\n",
    "df_obras['FAIXAS INTERDITADAS'] = df_obras['FAIXAS INTERDITADAS'].apply(lambda valor: str(valor).replace('6,NENHUMA','6'))"
   ]
  },
  {
   "cell_type": "code",
   "execution_count": 29,
   "metadata": {},
   "outputs": [],
   "source": [
    "df_obras = df_obras[['LOTE', 'RODOVIA', 'CÓD. DO SERVIÇO', 'DETALHAMENTO DO SERVIÇO',\n",
    "       'KM INICIAL', 'LAT KM INICIAL', 'LON KM INICIAL', 'KM FINAL',\n",
    "       'LAT KM FINAL', 'LON KM FINAL', 'SENTIDO', 'DATA INÍCIO', 'HORA INÍCIO',\n",
    "       'DATA FIM', 'HORA FIM', 'FI1', 'FI2', 'FI3', 'FI4', 'FI5', 'FI6',\n",
    "       'FIAC', 'ALT.', 'FAIXAS INTERDITADAS' , 'EMPRESA RESPONSÁVEL',\n",
    "       'RESPONSÁVEL TÉCNICO PELA OPERAÇÃO VIÁRIA',\n",
    "       'ART DO RESPONSÁVEL TÉCNICO', 'NÍVEL DE SERVIÇO C/ INTERVENÇÃO',\n",
    "       'APOIO PMRV', 'MUNICÍPIO', 'OBSERVAÇÕES GERAIS']]"
   ]
  },
  {
   "cell_type": "code",
   "execution_count": 30,
   "metadata": {},
   "outputs": [],
   "source": [
    "df_obras.to_csv(\"OBRAS_26_12_2022_a_01_01_2023.csv\", encoding=\"utf-8\", quoting=csv.QUOTE_NONNUMERIC, index=False)"
   ]
  },
  {
   "cell_type": "code",
   "execution_count": 31,
   "metadata": {},
   "outputs": [],
   "source": [
    "csv_semana_passada = pd.read_csv(r'C:\\Users\\lindomar.francisco\\Desktop\\py-obras\\OBRAS_19_12_2022_a_25_12_2022.csv', sep=',', low_memory=False, dtype= {'LOTE': object, 'CÓD. DO SERVIÇO': object})\n",
    "csv_semana_atual = pd.read_csv(r'C:\\Users\\lindomar.francisco\\Desktop\\py-obras\\OBRAS_26_12_2022_a_01_01_2023.csv', sep=',', low_memory=False, dtype= {'LOTE': object, 'CÓD. DO SERVIÇO': object})"
   ]
  },
  {
   "cell_type": "code",
   "execution_count": 32,
   "metadata": {},
   "outputs": [],
   "source": [
    "obras_consolidada = pd.concat([csv_semana_passada, csv_semana_atual])"
   ]
  },
  {
   "cell_type": "code",
   "execution_count": 33,
   "metadata": {},
   "outputs": [],
   "source": [
    "obras_consolidada = obras_consolidada[['LOTE', 'RODOVIA', 'CÓD. DO SERVIÇO',\n",
    "       'DETALHAMENTO DO SERVIÇO', 'KM INICIAL', 'LAT KM INICIAL',\n",
    "       'LON KM INICIAL', 'KM FINAL', 'LAT KM FINAL', 'LON KM FINAL', 'SENTIDO',\n",
    "       'DATA INÍCIO', 'HORA INÍCIO', 'DATA FIM', 'HORA FIM', 'FI1', 'FI2',\n",
    "       'FI3', 'FI4', 'FI5', 'FI6', 'FIAC', 'ALT.', 'FAIXAS INTERDITADAS',\n",
    "       'EMPRESA RESPONSÁVEL', 'RESPONSÁVEL TÉCNICO PELA OPERAÇÃO VIÁRIA',\n",
    "       'ART DO RESPONSÁVEL TÉCNICO', 'NÍVEL DE SERVIÇO C/ INTERVENÇÃO',\n",
    "       'APOIO PMRV', 'MUNICÍPIO', 'OBSERVAÇÕES GERAIS']]"
   ]
  },
  {
   "cell_type": "code",
   "execution_count": 34,
   "metadata": {},
   "outputs": [],
   "source": [
    "obras_consolidada.to_csv(\"OBRAS.CSV\", sep=',', index=False)\n"
   ]
  }
 ],
 "metadata": {
  "kernelspec": {
   "display_name": "Python 3",
   "language": "python",
   "name": "python3"
  },
  "language_info": {
   "codemirror_mode": {
    "name": "ipython",
    "version": 3
   },
   "file_extension": ".py",
   "mimetype": "text/x-python",
   "name": "python",
   "nbconvert_exporter": "python",
   "pygments_lexer": "ipython3",
   "version": "3.10.9"
  },
  "orig_nbformat": 4,
  "vscode": {
   "interpreter": {
    "hash": "c382dc940b8685aa81f2c215d25dcdaa5c83df37ced05d9ed4e8edc67801d350"
   }
  }
 },
 "nbformat": 4,
 "nbformat_minor": 2
}
