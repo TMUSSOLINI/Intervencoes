{
 "cells": [
  {
   "cell_type": "code",
   "execution_count": 1,
   "metadata": {},
   "outputs": [],
   "source": [
    "import pandas as pd\n",
    "import glob\n",
    "import csv\n",
    "import warnings\n",
    "import datetime as dt\n",
    "import numpy as np\n",
    "\n",
    "warnings.filterwarnings('ignore', category=UserWarning, module='openpyxl')\n",
    "pd.set_option('display.max_columns', 500)"
   ]
  },
  {
   "cell_type": "code",
   "execution_count": 2,
   "metadata": {},
   "outputs": [
    {
     "data": {
      "text/plain": [
       "['L01_AB - PLAN-PROG-SEMANAL-OBRAS-30-01-23_05-02-23.xlsx',\n",
       " 'L03_PLAN-PROG-SEMANAL-OBRAS- 30-01-2023 a 05-02-2023.xlsx',\n",
       " 'L06_PLAN-PROG-SEMANAL-OBRAS-30-01-23-05-02-23_ARTESP_Rev00.xlsx']"
      ]
     },
     "execution_count": 2,
     "metadata": {},
     "output_type": "execute_result"
    }
   ],
   "source": [
    "obras = glob.glob(r\"*.xlsx\") \n",
    "obras "
   ]
  },
  {
   "cell_type": "code",
   "execution_count": 3,
   "metadata": {},
   "outputs": [],
   "source": [
    "cabecalho = ['LOTE', 'RODOVIA', 'CÓD. DO SERVIÇO', 'DETALHAMENTO DO SERVIÇO',\n",
    "       'KM INICIAL', 'LAT KM INICIAL', 'LON KM INICIAL', 'KM FINAL',\n",
    "       'LAT KM FINAL', 'LON KM FINAL', 'SENTIDO', 'DATA INÍCIO', 'HORA INÍCIO',\n",
    "       'DATA FIM', 'HORA FIM', 'FI1', 'FI2', 'FI3', 'FI4', 'FI5', 'FI6',\n",
    "       'FIAC', 'ALT.', 'EMPRESA RESPONSÁVEL',\n",
    "       'RESPONSÁVEL TÉCNICO PELA OPERAÇÃO VIÁRIA',\n",
    "       'ART DO RESPONSÁVEL TÉCNICO', 'NÍVEL DE SERVIÇO C/ INTERVENÇÃO',\n",
    "       'APOIO PMRV', 'MUNICÍPIO', 'OBSERVAÇÕES GERAIS']"
   ]
  },
  {
   "cell_type": "code",
   "execution_count": 4,
   "metadata": {},
   "outputs": [
    {
     "name": "stdout",
     "output_type": "stream",
     "text": [
      "planilha:  L01_AB - PLAN-PROG-SEMANAL-OBRAS-30-01-23_05-02-23.xlsx\n",
      "extensao:  xlsx\n",
      "planilha:  L03_PLAN-PROG-SEMANAL-OBRAS- 30-01-2023 a 05-02-2023.xlsx\n",
      "extensao:  xlsx\n",
      "planilha:  L06_PLAN-PROG-SEMANAL-OBRAS-30-01-23-05-02-23_ARTESP_Rev00.xlsx\n",
      "extensao:  xlsx\n"
     ]
    }
   ],
   "source": [
    "df_lista=[]\n",
    "for obra in obras:\n",
    "    print(\"planilha: \", obra)\n",
    "    extensao = obra.split('.')[-1]\n",
    "    print(\"extensao: \", extensao)\n",
    "    df= pd.read_excel(\n",
    "        obra, sheet_name=\"DADOS\", \n",
    "        dtype={'DATA INÍCIO': object, 'DATA FIM': object, 'OBSERVAÇÕES GERAIS': object, 'DETALHAMENTO DO SERVIÇO': object, 'EMPRESA RESPONSÁVEL': object,\n",
    "        'RESPONSÁVEL TÉCNICO PELA OPERAÇÃO VIÁRIA': object, 'APOIO PMRV': object, 'MUNICÍPIO': object, 'ART DO RESPONSÁVEL TÉCNICO': object},\n",
    "        names=cabecalho, usecols=[x for x in range(30)]\n",
    "    )\n",
    "    df = df[~(df.LOTE.isnull())]\n",
    "    data2 = pd.to_datetime(df['DATA FIM'], errors='coerce', format='%Y-%m-%d %H:%M:%S')\n",
    "    df['DATA FIM'] = pd.to_datetime(df['DATA FIM'], errors='coerce', format='%d/%m/%Y')\n",
    "    df['DATA FIM'] = df['DATA FIM'].fillna(data2)    \n",
    "    data2 = pd.to_datetime(df['DATA INÍCIO'], errors='coerce', format='%Y-%m-%d %H:%M:%S')\n",
    "    df['DATA INÍCIO'] = pd.to_datetime(df['DATA INÍCIO'], errors='coerce', format='%d/%m/%Y')\n",
    "    df['DATA INÍCIO'] = df['DATA INÍCIO'].fillna(data2)\n",
    "    df['KM INICIAL'] = df['KM INICIAL'].apply(lambda valor: str(valor).replace('+', ''))\n",
    "    df['KM FINAL'] = df['KM FINAL'].apply(lambda valor: str(valor).replace('+', ''))\n",
    "    df['KM INICIAL'] = df['KM INICIAL'].apply(lambda valor: str(valor).replace(',', ''))\n",
    "    df['KM FINAL'] = df['KM FINAL'].apply(lambda valor: str(valor).replace(',', ''))\n",
    "    df['KM INICIAL'] = pd.to_numeric(df['KM INICIAL'], errors='coerce')\n",
    "    df['KM FINAL'] = pd.to_numeric(df['KM FINAL'], errors='coerce')\n",
    "    df['KM INICIAL'] = df['KM INICIAL'] / 1000\n",
    "    df['KM FINAL'] = df['KM FINAL'] / 1000\n",
    "    df['OBSERVAÇÕES GERAIS'] = df['OBSERVAÇÕES GERAIS'].replace(r'\\s+|\\\\n', ' ', regex=True)\n",
    "    df['DETALHAMENTO DO SERVIÇO'] = df['DETALHAMENTO DO SERVIÇO'].replace(r'\\s+|\\\\n', ' ', regex=True)\n",
    "    df['EMPRESA RESPONSÁVEL'] = df['EMPRESA RESPONSÁVEL'].replace(r'\\s+|\\\\n', ' ', regex=True)\n",
    "    df['RESPONSÁVEL TÉCNICO PELA OPERAÇÃO VIÁRIA'] = df['RESPONSÁVEL TÉCNICO PELA OPERAÇÃO VIÁRIA'].replace(r'\\s+|\\\\n', ' ', regex=True)\n",
    "    df['APOIO PMRV'] = df['APOIO PMRV'].replace(r'\\s+|\\\\n', ' ', regex=True)\n",
    "    df['MUNICÍPIO'] = df['MUNICÍPIO'].replace(r'\\s+|\\\\n', ' ', regex=True)\n",
    "    df = df.iloc[:, :30]\n",
    "    df_rodovia_nulo = df['RODOVIA'].isnull()\n",
    "    df= df[~df_rodovia_nulo]\n",
    "    df_lista.append(df)"
   ]
  },
  {
   "cell_type": "code",
   "execution_count": 5,
   "metadata": {},
   "outputs": [],
   "source": [
    "df_obras = pd.concat(df_lista, axis=0, ignore_index=True)\n"
   ]
  },
  {
   "cell_type": "code",
   "execution_count": 6,
   "metadata": {},
   "outputs": [],
   "source": [
    "df_obras.reset_index(drop=True, inplace=True)"
   ]
  },
  {
   "cell_type": "code",
   "execution_count": 7,
   "metadata": {},
   "outputs": [],
   "source": [
    "df_obras[\"LOTE\"] = df_obras[\"LOTE\"].astype(int)"
   ]
  },
  {
   "cell_type": "code",
   "execution_count": 8,
   "metadata": {},
   "outputs": [],
   "source": [
    "df_obras['MUNICÍPIO'] = df_obras['MUNICÍPIO'].str.normalize('NFKD').str.encode('ascii', errors='ignore').str.decode('utf-8')"
   ]
  },
  {
   "cell_type": "code",
   "execution_count": 9,
   "metadata": {},
   "outputs": [],
   "source": [
    "df_obras['SENTIDO'] = df_obras['SENTIDO'].apply(lambda valor: str(valor).replace('OL','LO'))\n",
    "df_obras['SENTIDO'] = df_obras['SENTIDO'].apply(lambda valor: str(valor).replace('IE','EI'))\n",
    "df_obras['SENTIDO'] = df_obras['SENTIDO'].apply(lambda valor: str(valor).replace('SN','NS'))\n",
    "df_obras['SENTIDO'] = df_obras['SENTIDO'].apply(lambda valor: str(valor).replace('Leste','L'))\n",
    "df_obras['SENTIDO'] = df_obras['SENTIDO'].apply(lambda valor: str(valor).replace('Norte','N'))\n",
    "df_obras['SENTIDO'] = df_obras['SENTIDO'].apply(lambda valor: str(valor).replace('Oeste','O'))\n",
    "df_obras['SENTIDO'] = df_obras['SENTIDO'].apply(lambda valor: str(valor).replace('Sul','S'))\n",
    "df_obras['SENTIDO'] = df_obras['SENTIDO'].apply(lambda valor: str(valor).replace('Leste / Oeste','LO'))\n",
    "df_obras['SENTIDO'] = df_obras['SENTIDO'].apply(lambda valor: str(valor).replace('Norte / Sul','NS'))\n",
    "df_obras['SENTIDO'] = df_obras['SENTIDO'].apply(lambda valor: str(valor).replace('NN','N'))\n",
    "df_obras['SENTIDO'] = df_obras['SENTIDO'].apply(lambda valor: str(valor).replace('SS','S'))\n",
    "df_obras['MUNICÍPIO'] = df_obras['MUNICÍPIO'].apply(lambda valor: str(valor).replace('-SP',''))\n",
    "df_obras['MUNICÍPIO'] = df_obras['MUNICÍPIO'].apply(lambda valor: str(valor).replace(' -SP',''))\n",
    "df_obras['MUNICÍPIO'] = df_obras['MUNICÍPIO'].apply(lambda valor: str(valor).replace(' - SP',''))\n",
    "df_obras['MUNICÍPIO'] = df_obras['MUNICÍPIO'].apply(lambda valor: valor.split('/')[0])\n",
    "df_obras['NÍVEL DE SERVIÇO C/ INTERVENÇÃO'] = df_obras['NÍVEL DE SERVIÇO C/ INTERVENÇÃO'].replace(np.nan,'NÃO INFORMADO')\n",
    "df_obras['MUNICÍPIO'] = df_obras['MUNICÍPIO'].str.upper()\n",
    "df_obras['OBSERVAÇÕES GERAIS'] = df_obras['OBSERVAÇÕES GERAIS'].str.upper()\n",
    "df_obras['RODOVIA'] = df_obras['RODOVIA'].str.upper()\n",
    "df_obras['DETALHAMENTO DO SERVIÇO'] = df_obras['DETALHAMENTO DO SERVIÇO'].str.upper()\n",
    "df_obras['APOIO PMRV'] = df_obras['APOIO PMRV'].str.upper()\n",
    "df_obras['NÍVEL DE SERVIÇO C/ INTERVENÇÃO'] = df_obras['NÍVEL DE SERVIÇO C/ INTERVENÇÃO'].str.upper()\n",
    "df_obras['RESPONSÁVEL TÉCNICO PELA OPERAÇÃO VIÁRIA'] = df_obras['RESPONSÁVEL TÉCNICO PELA OPERAÇÃO VIÁRIA'].str.upper()\n",
    "df_obras['EMPRESA RESPONSÁVEL'] = df_obras['EMPRESA RESPONSÁVEL'].str.upper()\n",
    "df_obras['SENTIDO'] = df_obras['SENTIDO'].str.upper()\n",
    "df_obras['FI1'] = df_obras['FI1'].str.upper()\n",
    "df_obras['FI2'] = df_obras['FI2'].str.upper()\n",
    "df_obras['FI3'] = df_obras['FI3'].str.upper()\n",
    "df_obras['FI4'] = df_obras['FI4'].str.upper()\n",
    "df_obras['FI5'] = df_obras['FI5'].str.upper()\n",
    "df_obras['FI6'] = df_obras['FI6'].str.upper()\n",
    "df_obras['FIAC'] = df_obras['FIAC'].str.upper()\n",
    "df_obras['FI1'] = df_obras['FI1'].apply(lambda valor: str(valor).replace('S','1'))\n",
    "df_obras['FI2'] = df_obras['FI2'].apply(lambda valor: str(valor).replace('S','2'))\n",
    "df_obras['FI3'] = df_obras['FI3'].apply(lambda valor: str(valor).replace('S','3'))\n",
    "df_obras['FI4'] = df_obras['FI4'].apply(lambda valor: str(valor).replace('S','4'))\n",
    "df_obras['FI5'] = df_obras['FI5'].apply(lambda valor: str(valor).replace('S','5'))\n",
    "df_obras['FI6'] = df_obras['FI6'].apply(lambda valor: str(valor).replace('S','6'))\n",
    "df_obras['FIAC'] = df_obras['FIAC'].apply(lambda valor: str(valor).replace('S','ACOS'))\n",
    "df_obras['FAIXAS INTERDITADAS'] = df_obras['FI1'] + ',' + df_obras['FI2'] + ',' + df_obras['FI3'] + ','+ df_obras['FI4'] + ',' + df_obras['FI5'] + ',' + df_obras['FI6'] + ',' + df_obras['FIAC']"
   ]
  },
  {
   "cell_type": "code",
   "execution_count": 10,
   "metadata": {},
   "outputs": [],
   "source": [
    "df_obras['FAIXAS INTERDITADAS'] = df_obras['FAIXAS INTERDITADAS'].apply(lambda valor: str(valor).replace('N','NENHUMA'))\n",
    "df_obras['FAIXAS INTERDITADAS'] = df_obras['FAIXAS INTERDITADAS'].apply(lambda valor: str(valor).replace('6NENHUMA','6'))\n",
    "df_obras['FAIXAS INTERDITADAS'] = df_obras['FAIXAS INTERDITADAS'].apply(lambda valor: str(valor).replace('4NENHUMA','4'))\n",
    "df_obras['FAIXAS INTERDITADAS'] = df_obras['FAIXAS INTERDITADAS'].apply(lambda valor: str(valor).replace('3NENHUMA','3'))\n",
    "df_obras['FAIXAS INTERDITADAS'] = df_obras['FAIXAS INTERDITADAS'].apply(lambda valor: str(valor).replace('2NENHUMA','2'))\n",
    "df_obras['FAIXAS INTERDITADAS'] = df_obras['FAIXAS INTERDITADAS'].apply(lambda valor: str(valor).replace('1NENHUMA','1'))\n",
    "df_obras['FAIXAS INTERDITADAS'] = df_obras['FAIXAS INTERDITADAS'].apply(lambda valor: str(valor).replace('NENHUMA,',''))\n",
    "df_obras['FAIXAS INTERDITADAS'] = df_obras['FAIXAS INTERDITADAS'].apply(lambda valor: str(valor).replace('1,NENHUMA','1'))\n",
    "df_obras['FAIXAS INTERDITADAS'] = df_obras['FAIXAS INTERDITADAS'].apply(lambda valor: str(valor).replace('2,NENHUMA','2'))\n",
    "df_obras['FAIXAS INTERDITADAS'] = df_obras['FAIXAS INTERDITADAS'].apply(lambda valor: str(valor).replace('3,NENHUMA','3'))\n",
    "df_obras['FAIXAS INTERDITADAS'] = df_obras['FAIXAS INTERDITADAS'].apply(lambda valor: str(valor).replace('4,NENHUMA','4'))\n",
    "df_obras['FAIXAS INTERDITADAS'] = df_obras['FAIXAS INTERDITADAS'].apply(lambda valor: str(valor).replace('5,NENHUMA','5'))\n",
    "df_obras['FAIXAS INTERDITADAS'] = df_obras['FAIXAS INTERDITADAS'].apply(lambda valor: str(valor).replace('6,NENHUMA','6'))"
   ]
  },
  {
   "cell_type": "code",
   "execution_count": 11,
   "metadata": {},
   "outputs": [],
   "source": [
    "df_obras = df_obras[['LOTE', 'RODOVIA', 'CÓD. DO SERVIÇO', 'DETALHAMENTO DO SERVIÇO',\n",
    "       'KM INICIAL', 'LAT KM INICIAL', 'LON KM INICIAL', 'KM FINAL',\n",
    "       'LAT KM FINAL', 'LON KM FINAL', 'SENTIDO', 'DATA INÍCIO', 'HORA INÍCIO',\n",
    "       'DATA FIM', 'HORA FIM', 'FI1', 'FI2', 'FI3', 'FI4', 'FI5', 'FI6',\n",
    "       'FIAC', 'ALT.', 'FAIXAS INTERDITADAS' , 'EMPRESA RESPONSÁVEL',\n",
    "       'RESPONSÁVEL TÉCNICO PELA OPERAÇÃO VIÁRIA',\n",
    "       'ART DO RESPONSÁVEL TÉCNICO', 'NÍVEL DE SERVIÇO C/ INTERVENÇÃO',\n",
    "       'APOIO PMRV', 'MUNICÍPIO', 'OBSERVAÇÕES GERAIS']]"
   ]
  },
  {
   "cell_type": "code",
   "execution_count": 12,
   "metadata": {},
   "outputs": [],
   "source": [
    "df_obras.to_csv(\"OBRAS_26_12_2022_a_01_01_2023.csv\", encoding=\"utf-8\", quoting=csv.QUOTE_NONNUMERIC, index=False)"
   ]
  },
  {
   "cell_type": "code",
   "execution_count": 13,
   "metadata": {},
   "outputs": [
    {
     "ename": "FileNotFoundError",
     "evalue": "[Errno 2] No such file or directory: 'C:\\\\Users\\\\lindomar.francisco\\\\Desktop\\\\py-obras\\\\OBRAS_19_12_2022_a_25_12_2022.csv'",
     "output_type": "error",
     "traceback": [
      "\u001b[1;31m---------------------------------------------------------------------------\u001b[0m",
      "\u001b[1;31mFileNotFoundError\u001b[0m                         Traceback (most recent call last)",
      "Cell \u001b[1;32mIn[13], line 1\u001b[0m\n\u001b[1;32m----> 1\u001b[0m csv_semana_passada \u001b[39m=\u001b[39m pd\u001b[39m.\u001b[39;49mread_csv(\u001b[39mr\u001b[39;49m\u001b[39m'\u001b[39;49m\u001b[39mC:\u001b[39;49m\u001b[39m\\\u001b[39;49m\u001b[39mUsers\u001b[39;49m\u001b[39m\\\u001b[39;49m\u001b[39mlindomar.francisco\u001b[39;49m\u001b[39m\\\u001b[39;49m\u001b[39mDesktop\u001b[39;49m\u001b[39m\\\u001b[39;49m\u001b[39mpy-obras\u001b[39;49m\u001b[39m\\\u001b[39;49m\u001b[39mOBRAS_19_12_2022_a_25_12_2022.csv\u001b[39;49m\u001b[39m'\u001b[39;49m, sep\u001b[39m=\u001b[39;49m\u001b[39m'\u001b[39;49m\u001b[39m,\u001b[39;49m\u001b[39m'\u001b[39;49m, low_memory\u001b[39m=\u001b[39;49m\u001b[39mFalse\u001b[39;49;00m, dtype\u001b[39m=\u001b[39;49m {\u001b[39m'\u001b[39;49m\u001b[39mLOTE\u001b[39;49m\u001b[39m'\u001b[39;49m: \u001b[39mobject\u001b[39;49m, \u001b[39m'\u001b[39;49m\u001b[39mCÓD. DO SERVIÇO\u001b[39;49m\u001b[39m'\u001b[39;49m: \u001b[39mobject\u001b[39;49m})\n\u001b[0;32m      2\u001b[0m csv_semana_atual \u001b[39m=\u001b[39m pd\u001b[39m.\u001b[39mread_csv(\u001b[39mr\u001b[39m\u001b[39m'\u001b[39m\u001b[39mC:\u001b[39m\u001b[39m\\\u001b[39m\u001b[39mUsers\u001b[39m\u001b[39m\\\u001b[39m\u001b[39mlindomar.francisco\u001b[39m\u001b[39m\\\u001b[39m\u001b[39mDesktop\u001b[39m\u001b[39m\\\u001b[39m\u001b[39mpy-obras\u001b[39m\u001b[39m\\\u001b[39m\u001b[39mOBRAS_26_12_2022_a_01_01_2023.csv\u001b[39m\u001b[39m'\u001b[39m, sep\u001b[39m=\u001b[39m\u001b[39m'\u001b[39m\u001b[39m,\u001b[39m\u001b[39m'\u001b[39m, low_memory\u001b[39m=\u001b[39m\u001b[39mFalse\u001b[39;00m, dtype\u001b[39m=\u001b[39m {\u001b[39m'\u001b[39m\u001b[39mLOTE\u001b[39m\u001b[39m'\u001b[39m: \u001b[39mobject\u001b[39m, \u001b[39m'\u001b[39m\u001b[39mCÓD. DO SERVIÇO\u001b[39m\u001b[39m'\u001b[39m: \u001b[39mobject\u001b[39m})\n",
      "File \u001b[1;32m~\\AppData\\Local\\Packages\\PythonSoftwareFoundation.Python.3.10_qbz5n2kfra8p0\\LocalCache\\local-packages\\Python310\\site-packages\\pandas\\util\\_decorators.py:211\u001b[0m, in \u001b[0;36mdeprecate_kwarg.<locals>._deprecate_kwarg.<locals>.wrapper\u001b[1;34m(*args, **kwargs)\u001b[0m\n\u001b[0;32m    209\u001b[0m     \u001b[39melse\u001b[39;00m:\n\u001b[0;32m    210\u001b[0m         kwargs[new_arg_name] \u001b[39m=\u001b[39m new_arg_value\n\u001b[1;32m--> 211\u001b[0m \u001b[39mreturn\u001b[39;00m func(\u001b[39m*\u001b[39margs, \u001b[39m*\u001b[39m\u001b[39m*\u001b[39mkwargs)\n",
      "File \u001b[1;32m~\\AppData\\Local\\Packages\\PythonSoftwareFoundation.Python.3.10_qbz5n2kfra8p0\\LocalCache\\local-packages\\Python310\\site-packages\\pandas\\util\\_decorators.py:331\u001b[0m, in \u001b[0;36mdeprecate_nonkeyword_arguments.<locals>.decorate.<locals>.wrapper\u001b[1;34m(*args, **kwargs)\u001b[0m\n\u001b[0;32m    325\u001b[0m \u001b[39mif\u001b[39;00m \u001b[39mlen\u001b[39m(args) \u001b[39m>\u001b[39m num_allow_args:\n\u001b[0;32m    326\u001b[0m     warnings\u001b[39m.\u001b[39mwarn(\n\u001b[0;32m    327\u001b[0m         msg\u001b[39m.\u001b[39mformat(arguments\u001b[39m=\u001b[39m_format_argument_list(allow_args)),\n\u001b[0;32m    328\u001b[0m         \u001b[39mFutureWarning\u001b[39;00m,\n\u001b[0;32m    329\u001b[0m         stacklevel\u001b[39m=\u001b[39mfind_stack_level(),\n\u001b[0;32m    330\u001b[0m     )\n\u001b[1;32m--> 331\u001b[0m \u001b[39mreturn\u001b[39;00m func(\u001b[39m*\u001b[39margs, \u001b[39m*\u001b[39m\u001b[39m*\u001b[39mkwargs)\n",
      "File \u001b[1;32m~\\AppData\\Local\\Packages\\PythonSoftwareFoundation.Python.3.10_qbz5n2kfra8p0\\LocalCache\\local-packages\\Python310\\site-packages\\pandas\\io\\parsers\\readers.py:950\u001b[0m, in \u001b[0;36mread_csv\u001b[1;34m(filepath_or_buffer, sep, delimiter, header, names, index_col, usecols, squeeze, prefix, mangle_dupe_cols, dtype, engine, converters, true_values, false_values, skipinitialspace, skiprows, skipfooter, nrows, na_values, keep_default_na, na_filter, verbose, skip_blank_lines, parse_dates, infer_datetime_format, keep_date_col, date_parser, dayfirst, cache_dates, iterator, chunksize, compression, thousands, decimal, lineterminator, quotechar, quoting, doublequote, escapechar, comment, encoding, encoding_errors, dialect, error_bad_lines, warn_bad_lines, on_bad_lines, delim_whitespace, low_memory, memory_map, float_precision, storage_options)\u001b[0m\n\u001b[0;32m    935\u001b[0m kwds_defaults \u001b[39m=\u001b[39m _refine_defaults_read(\n\u001b[0;32m    936\u001b[0m     dialect,\n\u001b[0;32m    937\u001b[0m     delimiter,\n\u001b[1;32m   (...)\u001b[0m\n\u001b[0;32m    946\u001b[0m     defaults\u001b[39m=\u001b[39m{\u001b[39m\"\u001b[39m\u001b[39mdelimiter\u001b[39m\u001b[39m\"\u001b[39m: \u001b[39m\"\u001b[39m\u001b[39m,\u001b[39m\u001b[39m\"\u001b[39m},\n\u001b[0;32m    947\u001b[0m )\n\u001b[0;32m    948\u001b[0m kwds\u001b[39m.\u001b[39mupdate(kwds_defaults)\n\u001b[1;32m--> 950\u001b[0m \u001b[39mreturn\u001b[39;00m _read(filepath_or_buffer, kwds)\n",
      "File \u001b[1;32m~\\AppData\\Local\\Packages\\PythonSoftwareFoundation.Python.3.10_qbz5n2kfra8p0\\LocalCache\\local-packages\\Python310\\site-packages\\pandas\\io\\parsers\\readers.py:605\u001b[0m, in \u001b[0;36m_read\u001b[1;34m(filepath_or_buffer, kwds)\u001b[0m\n\u001b[0;32m    602\u001b[0m _validate_names(kwds\u001b[39m.\u001b[39mget(\u001b[39m\"\u001b[39m\u001b[39mnames\u001b[39m\u001b[39m\"\u001b[39m, \u001b[39mNone\u001b[39;00m))\n\u001b[0;32m    604\u001b[0m \u001b[39m# Create the parser.\u001b[39;00m\n\u001b[1;32m--> 605\u001b[0m parser \u001b[39m=\u001b[39m TextFileReader(filepath_or_buffer, \u001b[39m*\u001b[39m\u001b[39m*\u001b[39mkwds)\n\u001b[0;32m    607\u001b[0m \u001b[39mif\u001b[39;00m chunksize \u001b[39mor\u001b[39;00m iterator:\n\u001b[0;32m    608\u001b[0m     \u001b[39mreturn\u001b[39;00m parser\n",
      "File \u001b[1;32m~\\AppData\\Local\\Packages\\PythonSoftwareFoundation.Python.3.10_qbz5n2kfra8p0\\LocalCache\\local-packages\\Python310\\site-packages\\pandas\\io\\parsers\\readers.py:1442\u001b[0m, in \u001b[0;36mTextFileReader.__init__\u001b[1;34m(self, f, engine, **kwds)\u001b[0m\n\u001b[0;32m   1439\u001b[0m     \u001b[39mself\u001b[39m\u001b[39m.\u001b[39moptions[\u001b[39m\"\u001b[39m\u001b[39mhas_index_names\u001b[39m\u001b[39m\"\u001b[39m] \u001b[39m=\u001b[39m kwds[\u001b[39m\"\u001b[39m\u001b[39mhas_index_names\u001b[39m\u001b[39m\"\u001b[39m]\n\u001b[0;32m   1441\u001b[0m \u001b[39mself\u001b[39m\u001b[39m.\u001b[39mhandles: IOHandles \u001b[39m|\u001b[39m \u001b[39mNone\u001b[39;00m \u001b[39m=\u001b[39m \u001b[39mNone\u001b[39;00m\n\u001b[1;32m-> 1442\u001b[0m \u001b[39mself\u001b[39m\u001b[39m.\u001b[39m_engine \u001b[39m=\u001b[39m \u001b[39mself\u001b[39;49m\u001b[39m.\u001b[39;49m_make_engine(f, \u001b[39mself\u001b[39;49m\u001b[39m.\u001b[39;49mengine)\n",
      "File \u001b[1;32m~\\AppData\\Local\\Packages\\PythonSoftwareFoundation.Python.3.10_qbz5n2kfra8p0\\LocalCache\\local-packages\\Python310\\site-packages\\pandas\\io\\parsers\\readers.py:1735\u001b[0m, in \u001b[0;36mTextFileReader._make_engine\u001b[1;34m(self, f, engine)\u001b[0m\n\u001b[0;32m   1733\u001b[0m     \u001b[39mif\u001b[39;00m \u001b[39m\"\u001b[39m\u001b[39mb\u001b[39m\u001b[39m\"\u001b[39m \u001b[39mnot\u001b[39;00m \u001b[39min\u001b[39;00m mode:\n\u001b[0;32m   1734\u001b[0m         mode \u001b[39m+\u001b[39m\u001b[39m=\u001b[39m \u001b[39m\"\u001b[39m\u001b[39mb\u001b[39m\u001b[39m\"\u001b[39m\n\u001b[1;32m-> 1735\u001b[0m \u001b[39mself\u001b[39m\u001b[39m.\u001b[39mhandles \u001b[39m=\u001b[39m get_handle(\n\u001b[0;32m   1736\u001b[0m     f,\n\u001b[0;32m   1737\u001b[0m     mode,\n\u001b[0;32m   1738\u001b[0m     encoding\u001b[39m=\u001b[39;49m\u001b[39mself\u001b[39;49m\u001b[39m.\u001b[39;49moptions\u001b[39m.\u001b[39;49mget(\u001b[39m\"\u001b[39;49m\u001b[39mencoding\u001b[39;49m\u001b[39m\"\u001b[39;49m, \u001b[39mNone\u001b[39;49;00m),\n\u001b[0;32m   1739\u001b[0m     compression\u001b[39m=\u001b[39;49m\u001b[39mself\u001b[39;49m\u001b[39m.\u001b[39;49moptions\u001b[39m.\u001b[39;49mget(\u001b[39m\"\u001b[39;49m\u001b[39mcompression\u001b[39;49m\u001b[39m\"\u001b[39;49m, \u001b[39mNone\u001b[39;49;00m),\n\u001b[0;32m   1740\u001b[0m     memory_map\u001b[39m=\u001b[39;49m\u001b[39mself\u001b[39;49m\u001b[39m.\u001b[39;49moptions\u001b[39m.\u001b[39;49mget(\u001b[39m\"\u001b[39;49m\u001b[39mmemory_map\u001b[39;49m\u001b[39m\"\u001b[39;49m, \u001b[39mFalse\u001b[39;49;00m),\n\u001b[0;32m   1741\u001b[0m     is_text\u001b[39m=\u001b[39;49mis_text,\n\u001b[0;32m   1742\u001b[0m     errors\u001b[39m=\u001b[39;49m\u001b[39mself\u001b[39;49m\u001b[39m.\u001b[39;49moptions\u001b[39m.\u001b[39;49mget(\u001b[39m\"\u001b[39;49m\u001b[39mencoding_errors\u001b[39;49m\u001b[39m\"\u001b[39;49m, \u001b[39m\"\u001b[39;49m\u001b[39mstrict\u001b[39;49m\u001b[39m\"\u001b[39;49m),\n\u001b[0;32m   1743\u001b[0m     storage_options\u001b[39m=\u001b[39;49m\u001b[39mself\u001b[39;49m\u001b[39m.\u001b[39;49moptions\u001b[39m.\u001b[39;49mget(\u001b[39m\"\u001b[39;49m\u001b[39mstorage_options\u001b[39;49m\u001b[39m\"\u001b[39;49m, \u001b[39mNone\u001b[39;49;00m),\n\u001b[0;32m   1744\u001b[0m )\n\u001b[0;32m   1745\u001b[0m \u001b[39massert\u001b[39;00m \u001b[39mself\u001b[39m\u001b[39m.\u001b[39mhandles \u001b[39mis\u001b[39;00m \u001b[39mnot\u001b[39;00m \u001b[39mNone\u001b[39;00m\n\u001b[0;32m   1746\u001b[0m f \u001b[39m=\u001b[39m \u001b[39mself\u001b[39m\u001b[39m.\u001b[39mhandles\u001b[39m.\u001b[39mhandle\n",
      "File \u001b[1;32m~\\AppData\\Local\\Packages\\PythonSoftwareFoundation.Python.3.10_qbz5n2kfra8p0\\LocalCache\\local-packages\\Python310\\site-packages\\pandas\\io\\common.py:856\u001b[0m, in \u001b[0;36mget_handle\u001b[1;34m(path_or_buf, mode, encoding, compression, memory_map, is_text, errors, storage_options)\u001b[0m\n\u001b[0;32m    851\u001b[0m \u001b[39melif\u001b[39;00m \u001b[39misinstance\u001b[39m(handle, \u001b[39mstr\u001b[39m):\n\u001b[0;32m    852\u001b[0m     \u001b[39m# Check whether the filename is to be opened in binary mode.\u001b[39;00m\n\u001b[0;32m    853\u001b[0m     \u001b[39m# Binary mode does not support 'encoding' and 'newline'.\u001b[39;00m\n\u001b[0;32m    854\u001b[0m     \u001b[39mif\u001b[39;00m ioargs\u001b[39m.\u001b[39mencoding \u001b[39mand\u001b[39;00m \u001b[39m\"\u001b[39m\u001b[39mb\u001b[39m\u001b[39m\"\u001b[39m \u001b[39mnot\u001b[39;00m \u001b[39min\u001b[39;00m ioargs\u001b[39m.\u001b[39mmode:\n\u001b[0;32m    855\u001b[0m         \u001b[39m# Encoding\u001b[39;00m\n\u001b[1;32m--> 856\u001b[0m         handle \u001b[39m=\u001b[39m \u001b[39mopen\u001b[39;49m(\n\u001b[0;32m    857\u001b[0m             handle,\n\u001b[0;32m    858\u001b[0m             ioargs\u001b[39m.\u001b[39;49mmode,\n\u001b[0;32m    859\u001b[0m             encoding\u001b[39m=\u001b[39;49mioargs\u001b[39m.\u001b[39;49mencoding,\n\u001b[0;32m    860\u001b[0m             errors\u001b[39m=\u001b[39;49merrors,\n\u001b[0;32m    861\u001b[0m             newline\u001b[39m=\u001b[39;49m\u001b[39m\"\u001b[39;49m\u001b[39m\"\u001b[39;49m,\n\u001b[0;32m    862\u001b[0m         )\n\u001b[0;32m    863\u001b[0m     \u001b[39melse\u001b[39;00m:\n\u001b[0;32m    864\u001b[0m         \u001b[39m# Binary mode\u001b[39;00m\n\u001b[0;32m    865\u001b[0m         handle \u001b[39m=\u001b[39m \u001b[39mopen\u001b[39m(handle, ioargs\u001b[39m.\u001b[39mmode)\n",
      "\u001b[1;31mFileNotFoundError\u001b[0m: [Errno 2] No such file or directory: 'C:\\\\Users\\\\lindomar.francisco\\\\Desktop\\\\py-obras\\\\OBRAS_19_12_2022_a_25_12_2022.csv'"
     ]
    }
   ],
   "source": [
    "csv_semana_passada = pd.read_csv(r'C:\\Users\\lindomar.francisco\\Desktop\\py-obras\\OBRAS_19_12_2022_a_25_12_2022.csv', sep=',', low_memory=False, dtype= {'LOTE': object, 'CÓD. DO SERVIÇO': object})\n",
    "csv_semana_atual = pd.read_csv(r'C:\\Users\\lindomar.francisco\\Desktop\\py-obras\\OBRAS_26_12_2022_a_01_01_2023.csv', sep=',', low_memory=False, dtype= {'LOTE': object, 'CÓD. DO SERVIÇO': object})"
   ]
  },
  {
   "cell_type": "code",
   "execution_count": null,
   "metadata": {},
   "outputs": [],
   "source": [
    "obras_consolidada = pd.concat([csv_semana_passada, csv_semana_atual])"
   ]
  },
  {
   "cell_type": "code",
   "execution_count": null,
   "metadata": {},
   "outputs": [],
   "source": [
    "obras_consolidada = obras_consolidada[['LOTE', 'RODOVIA', 'CÓD. DO SERVIÇO',\n",
    "       'DETALHAMENTO DO SERVIÇO', 'KM INICIAL', 'LAT KM INICIAL',\n",
    "       'LON KM INICIAL', 'KM FINAL', 'LAT KM FINAL', 'LON KM FINAL', 'SENTIDO',\n",
    "       'DATA INÍCIO', 'HORA INÍCIO', 'DATA FIM', 'HORA FIM', 'FI1', 'FI2',\n",
    "       'FI3', 'FI4', 'FI5', 'FI6', 'FIAC', 'ALT.', 'FAIXAS INTERDITADAS',\n",
    "       'EMPRESA RESPONSÁVEL', 'RESPONSÁVEL TÉCNICO PELA OPERAÇÃO VIÁRIA',\n",
    "       'ART DO RESPONSÁVEL TÉCNICO', 'NÍVEL DE SERVIÇO C/ INTERVENÇÃO',\n",
    "       'APOIO PMRV', 'MUNICÍPIO', 'OBSERVAÇÕES GERAIS']]"
   ]
  },
  {
   "cell_type": "code",
   "execution_count": null,
   "metadata": {},
   "outputs": [],
   "source": [
    "obras_consolidada.to_csv(\"OBRAS.CSV\", sep=',', index=False)\n"
   ]
  }
 ],
 "metadata": {
  "kernelspec": {
   "display_name": "Python 3",
   "language": "python",
   "name": "python3"
  },
  "language_info": {
   "codemirror_mode": {
    "name": "ipython",
    "version": 3
   },
   "file_extension": ".py",
   "mimetype": "text/x-python",
   "name": "python",
   "nbconvert_exporter": "python",
   "pygments_lexer": "ipython3",
   "version": "3.10.10"
  },
  "orig_nbformat": 4,
  "vscode": {
   "interpreter": {
    "hash": "c382dc940b8685aa81f2c215d25dcdaa5c83df37ced05d9ed4e8edc67801d350"
   }
  }
 },
 "nbformat": 4,
 "nbformat_minor": 2
}
