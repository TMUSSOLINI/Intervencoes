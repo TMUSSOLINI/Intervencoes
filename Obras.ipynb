{
 "cells": [
  {
   "cell_type": "code",
   "execution_count": 50,
   "metadata": {},
   "outputs": [],
   "source": [
    "import pandas as pd\n",
    "import numpy as np\n",
    "import import_ipynb\n",
    "from unidecode import unidecode\n",
    "import glob\n",
    "\n",
    "import validItems"
   ]
  },
  {
   "cell_type": "code",
   "execution_count": 51,
   "metadata": {},
   "outputs": [
    {
     "data": {
      "text/plain": [
       "['L03_PLAN-PROG-SEMANAL-OBRAS- 30-01-2023 a 05-02-2023.xlsx',\n",
       " 'L06_PLAN-PROG-SEMANAL-OBRAS-30-01-23-05-02-23_ARTESP_Rev00.xlsx',\n",
       " 'L07_Cópia de Programação de Obras 30.01.2023 a 05.02.2023.xlsx',\n",
       " 'L09_PLAN-PROG-SEMANAL-OBRAS-30-01-23-05-02-23.xlsx']"
      ]
     },
     "execution_count": 51,
     "metadata": {},
     "output_type": "execute_result"
    }
   ],
   "source": [
    "obras = glob.glob(r\"*.xlsx\")\n",
    "obras"
   ]
  },
  {
   "cell_type": "code",
   "execution_count": 52,
   "metadata": {},
   "outputs": [],
   "source": [
    "def treat_list(valid_counties):\n",
    "    municipalities_treated = []\n",
    "    for i in range(len(valid_counties)):\n",
    "        valid_counties[i] = unidecode(valid_counties[i])\n",
    "        valid_counties[i] = valid_counties[i].lower()\n",
    "        municipalities_treated.append(valid_counties[i])\n",
    "    return municipalities_treated\n",
    "\n",
    "\n",
    "def check_highway(valid_highways, worksheet_highways):\n",
    "    for i in range(len(worksheet_highways)):\n",
    "        if not worksheet_highways[i] in valid_highways:\n",
    "            wrong_list.append(f\"Rodovia errada na planilha: {obra[0:3]}| a rodovia não existe: {worksheet_highways[i]}\")\n",
    "            \n",
    "        \n",
    "def check_codes(valid_codes, worksheet_codes):\n",
    "    for i in range(len(worksheet_codes)):\n",
    "        if not worksheet_codes[i] in valid_codes:\n",
    "            wrong_list.append(f\"Cod de serviço errado na planilha: {obra[0:3]}| o codigo de serviço não existe: {worksheet_codes[i]}\")\n",
    "\n",
    "\n",
    "def check_counties(valid_counties, worksheet_counties):\n",
    "    for i in range(len(worksheet_counties)):\n",
    "        if not unidecode(worksheet_counties[i].strip()) in valid_counties:\n",
    "            wrong_list.append(f\"Municipio errado na planilha: {obra[0:3]}, o municipio {worksheet_counties[i].strip()}\")\n",
    "            \n",
    "\n",
    "def check_coordinates(worksheet, collumn_name: str):\n",
    "    comma = \",\"\n",
    "    coordinates_list = []\n",
    "    for i in range(len(worksheet)):\n",
    "        coordinates_list.append(worksheet[collumn_name][i])\n",
    "    comma_list = [ a for a in coordinates_list if comma in str(a)]\n",
    "\n",
    "    if len(comma_list) != 0:\n",
    "        for i in range(len(comma_list)):\n",
    "            wrong_list.append(f\"Coordenada errada na planilha: {obra[0:3]}| esta com , no valor: {comma_list[i]}\")\n",
    "\n",
    "def check_senses(worksheet, valid_senses):  \n",
    "    for i in range(len(worksheet)):\n",
    "        if not worksheet[i] in valid_senses:\n",
    "            wrong_list.append(f\"Sentido errado na planilha: {obra[0:3]}| o sentido não existe: {worksheet[i]}\")\n",
    "\n",
    "\n",
    "def check_batch(worksheet_list, valid_batch):\n",
    "    for i in range(len(worksheet_list)):\n",
    "        if not worksheet_list[i] in valid_batch:\n",
    "            wrong_list.append(f\"Lote errado na planilha: {obra[0:3]}| o lote não existe: {worksheet_list[i]}\")\n",
    "\n",
    "\n",
    "def check_empty(worksheet, collumn_name):\n",
    "    empty_list = []\n",
    "    value_empty = []\n",
    "    for i in range(len(worksheet)):\n",
    "        if worksheet[collumn_name][i]:\n",
    "            empty_list.append(worksheet[collumn_name][i])\n",
    "\n",
    "    for i in range(len(empty_list)):\n",
    "        if \"nan\" in str(empty_list[i]):\n",
    "            value_empty.append(str(empty_list[i]))\n",
    "    if len(value_empty) > 0:\n",
    "        wrong_list.append(f'temos um total de {len(value_empty)} campos vazios na {collumn_name} na planilha: {obra[0:3]}')\n",
    "            \n",
    "def check_km(worksheet, collumn_name: str):\n",
    "    dot = \".\"\n",
    "    comma = \",\"\n",
    "    km_list = []\n",
    "    for i in range(len(worksheet)):\n",
    "        km_list.append(worksheet[collumn_name][i])\n",
    "    dot_list = [a for a in km_list if dot in str(a)]\n",
    "    comma_list = [ a for a in km_list if comma in str(a)]\n",
    "\n",
    "    if len(comma_list) != 0 or len(dot_list) != 0:\n",
    "        if len(comma_list) > 0:\n",
    "            for i in range(len(comma_list)):\n",
    "                wrong_list.append(f\"na planilha: {obra[0:3]} | Erro de KM, O KM {comma_list[i]}, esta com ,\")\n",
    "        else:\n",
    "            for i in range(len(dot_list)):\n",
    "                wrong_list.append(f\"na planilha: {obra[0:3]} | Erro de KM, O KM {dot_list[i]}, esta com .\")\n",
    "        return True\n",
    "    else:\n",
    "        return False"
   ]
  },
  {
   "cell_type": "code",
   "execution_count": 53,
   "metadata": {},
   "outputs": [
    {
     "name": "stderr",
     "output_type": "stream",
     "text": [
      "c:\\Users\\Thiago Mussolini\\AppData\\Local\\Programs\\Python\\Python310\\lib\\site-packages\\openpyxl\\worksheet\\_reader.py:312: UserWarning: Unknown extension is not supported and will be removed\n",
      "  warn(msg)\n",
      "c:\\Users\\Thiago Mussolini\\AppData\\Local\\Programs\\Python\\Python310\\lib\\site-packages\\openpyxl\\worksheet\\_reader.py:296: UserWarning: Failed to load a conditional formatting rule. It will be discarded. Cause: expected <class 'float'>\n",
      "  warn(msg)\n",
      "c:\\Users\\Thiago Mussolini\\AppData\\Local\\Programs\\Python\\Python310\\lib\\site-packages\\openpyxl\\worksheet\\header_footer.py:48: UserWarning: Cannot parse header or footer so it will be ignored\n",
      "  warn(\"\"\"Cannot parse header or footer so it will be ignored\"\"\")\n",
      "c:\\Users\\Thiago Mussolini\\AppData\\Local\\Programs\\Python\\Python310\\lib\\site-packages\\openpyxl\\worksheet\\_reader.py:312: UserWarning: Conditional Formatting extension is not supported and will be removed\n",
      "  warn(msg)\n",
      "c:\\Users\\Thiago Mussolini\\AppData\\Local\\Programs\\Python\\Python310\\lib\\site-packages\\openpyxl\\worksheet\\_reader.py:312: UserWarning: Unknown extension is not supported and will be removed\n",
      "  warn(msg)\n",
      "c:\\Users\\Thiago Mussolini\\AppData\\Local\\Programs\\Python\\Python310\\lib\\site-packages\\openpyxl\\worksheet\\_reader.py:296: UserWarning: Failed to load a conditional formatting rule. It will be discarded. Cause: expected <class 'float'>\n",
      "  warn(msg)\n",
      "c:\\Users\\Thiago Mussolini\\AppData\\Local\\Programs\\Python\\Python310\\lib\\site-packages\\openpyxl\\worksheet\\header_footer.py:48: UserWarning: Cannot parse header or footer so it will be ignored\n",
      "  warn(\"\"\"Cannot parse header or footer so it will be ignored\"\"\")\n",
      "c:\\Users\\Thiago Mussolini\\AppData\\Local\\Programs\\Python\\Python310\\lib\\site-packages\\openpyxl\\worksheet\\_reader.py:312: UserWarning: Conditional Formatting extension is not supported and will be removed\n",
      "  warn(msg)\n",
      "c:\\Users\\Thiago Mussolini\\AppData\\Local\\Programs\\Python\\Python310\\lib\\site-packages\\openpyxl\\worksheet\\header_footer.py:48: UserWarning: Cannot parse header or footer so it will be ignored\n",
      "  warn(\"\"\"Cannot parse header or footer so it will be ignored\"\"\")\n",
      "c:\\Users\\Thiago Mussolini\\AppData\\Local\\Programs\\Python\\Python310\\lib\\site-packages\\openpyxl\\worksheet\\_reader.py:312: UserWarning: Data Validation extension is not supported and will be removed\n",
      "  warn(msg)\n",
      "c:\\Users\\Thiago Mussolini\\AppData\\Local\\Programs\\Python\\Python310\\lib\\site-packages\\openpyxl\\worksheet\\_reader.py:312: UserWarning: Unknown extension is not supported and will be removed\n",
      "  warn(msg)\n",
      "c:\\Users\\Thiago Mussolini\\AppData\\Local\\Programs\\Python\\Python310\\lib\\site-packages\\openpyxl\\worksheet\\_reader.py:296: UserWarning: Failed to load a conditional formatting rule. It will be discarded. Cause: expected <class 'float'>\n",
      "  warn(msg)\n",
      "c:\\Users\\Thiago Mussolini\\AppData\\Local\\Programs\\Python\\Python310\\lib\\site-packages\\openpyxl\\worksheet\\header_footer.py:48: UserWarning: Cannot parse header or footer so it will be ignored\n",
      "  warn(\"\"\"Cannot parse header or footer so it will be ignored\"\"\")\n",
      "c:\\Users\\Thiago Mussolini\\AppData\\Local\\Programs\\Python\\Python310\\lib\\site-packages\\openpyxl\\worksheet\\_reader.py:312: UserWarning: Conditional Formatting extension is not supported and will be removed\n",
      "  warn(msg)\n",
      "c:\\Users\\Thiago Mussolini\\AppData\\Local\\Programs\\Python\\Python310\\lib\\site-packages\\openpyxl\\worksheet\\_reader.py:312: UserWarning: Data Validation extension is not supported and will be removed\n",
      "  warn(msg)\n"
     ]
    },
    {
     "name": "stdout",
     "output_type": "stream",
     "text": [
      "['temos um total de 7 campos vazios na FI1 na planilha: L03', 'temos um total de 1 campos vazios na EMPRESA RESPONSÁVEL na planilha: L03', 'temos um total de 1 campos vazios na RESPONSÁVEL TÉCNICO PELA OPERAÇÃO VIÁRIA na planilha: L03', 'temos um total de 1 campos vazios na ART DO RESPONSÁVEL TÉCNICO na planilha: L03', 'temos um total de 1 campos vazios na NÍVEL DE SERVIÇO C/ INTERVENÇÃO na planilha: L03', 'Municipio errado na planilha: L03, o municipio rio de janeiro', 'Cod de serviço errado na planilha: L07| o codigo de serviço não existe: 900', 'temos um total de 2 campos vazios na FI1 na planilha: L07', 'temos um total de 2 campos vazios na FI2 na planilha: L07']\n"
     ]
    }
   ],
   "source": [
    "wrong_list = []\n",
    "\n",
    "\n",
    "for obra in obras:\n",
    "    df = pd.read_excel(obra, sheet_name=\"DADOS\")\n",
    "    cod_planilha = []\n",
    "    rodovia_planilha = []\n",
    "    municipios_planilha = []\n",
    "    sentidos = []\n",
    "    lote = []\n",
    "    for i in range(len(df)):\n",
    "        cod_planilha.append(df[\"CÓD. DO SERVIÇO\"][i])\n",
    "        rodovia_planilha.append(df[\"RODOVIA\"][i])\n",
    "        municipios_planilha.append(unidecode(df[\"MUNICÍPIO\"][i].lower()))\n",
    "        sentidos.append(df['SENTIDO'][i])\n",
    "        lote.append(df[\"LOTE\"][i])\n",
    "    check_batch(lote, validItems.lotes)\n",
    "    check_highway(validItems.rodovias, rodovia_planilha)\n",
    "    check_codes(validItems.codigo_servico, cod_planilha)\n",
    "    check_km(df, 'KM INICIAL')\n",
    "    check_coordinates(df,\"LAT KM INICIAL\")\n",
    "    check_coordinates(df,\"LON KM INICIAL\")\n",
    "    check_km(df, 'KM FINAL')\n",
    "    check_coordinates(df,\"LAT KM FINAL\")\n",
    "    check_coordinates(df,\"LON KM FINAL\")\n",
    "    check_senses(sentidos, validItems.sentido_validos)\n",
    "    check_empty(df, \"FI1\")\n",
    "    check_empty(df, \"FI2\")\n",
    "    check_empty(df, \"FI3\")\n",
    "    check_empty(df, \"FI4\")\n",
    "    check_empty(df, \"FI5\")\n",
    "    check_empty(df, \"FI6\")\n",
    "    check_empty(df, \"FIAC\")\n",
    "    check_empty(df, \"ALT.\")\n",
    "    check_empty(df, \"EMPRESA RESPONSÁVEL\")\n",
    "    check_empty(df, \"RESPONSÁVEL TÉCNICO PELA OPERAÇÃO VIÁRIA\")\n",
    "    check_empty(df, \"ART DO RESPONSÁVEL TÉCNICO\")\n",
    "    check_empty(df, \"NÍVEL DE SERVIÇO C/ INTERVENÇÃO\")\n",
    "    check_counties(treat_list(validItems.municipios), municipios_planilha)\n",
    "\n",
    "print(wrong_list)"
   ]
  }
 ],
 "metadata": {
  "kernelspec": {
   "display_name": "Python 3",
   "language": "python",
   "name": "python3"
  },
  "language_info": {
   "codemirror_mode": {
    "name": "ipython",
    "version": 3
   },
   "file_extension": ".py",
   "mimetype": "text/x-python",
   "name": "python",
   "nbconvert_exporter": "python",
   "pygments_lexer": "ipython3",
   "version": "3.10.5"
  },
  "orig_nbformat": 4,
  "vscode": {
   "interpreter": {
    "hash": "f35266ddf69b6852d6e53acffd59ac695600fb3e5c29f77bfadb7a15b9596339"
   }
  }
 },
 "nbformat": 4,
 "nbformat_minor": 2
}
