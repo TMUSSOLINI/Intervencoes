{
 "cells": [
  {
   "cell_type": "code",
   "execution_count": 217,
   "metadata": {},
   "outputs": [],
   "source": [
    "import pandas as pd\n",
    "import numpy as np\n",
    "import import_ipynb\n",
    "from unidecode import unidecode\n",
    "import glob\n",
    "\n",
    "import validItems"
   ]
  },
  {
   "cell_type": "code",
   "execution_count": 218,
   "metadata": {},
   "outputs": [
    {
     "data": {
      "text/plain": [
       "['L03_PLAN-PROG-SEMANAL-OBRAS- 30-01-2023 a 05-02-2023.xlsx']"
      ]
     },
     "execution_count": 218,
     "metadata": {},
     "output_type": "execute_result"
    }
   ],
   "source": [
    "obras = glob.glob(r\"L03_PLAN-PROG-SEMANAL-OBRAS- 30-01-2023 a 05-02-2023.xlsx\")\n",
    "obras"
   ]
  },
  {
   "cell_type": "code",
   "execution_count": 219,
   "metadata": {},
   "outputs": [],
   "source": [
    "def treat_list(valid_counties):\n",
    "    municipalities_treated = []\n",
    "    for i in range(len(valid_counties)):\n",
    "        valid_counties[i] = unidecode(valid_counties[i])\n",
    "        valid_counties[i] = valid_counties[i].lower()\n",
    "        municipalities_treated.append(valid_counties[i])\n",
    "    return municipalities_treated\n",
    "\n",
    "\n",
    "def check_highway(valid_highways, worksheet_highways):\n",
    "    for i in range(len(worksheet_highways)):\n",
    "        if not worksheet_highways[i] in valid_highways:\n",
    "            wrong_list.append(f\"Rodovia errada na planilha: {obra[0:3]}| a rodovia não existe: {worksheet_highways[i]}\")\n",
    "            \n",
    "        \n",
    "def check_codes(valid_codes, worksheet_codes):\n",
    "    for i in range(len(worksheet_codes)):\n",
    "        if not worksheet_codes[i] in valid_codes:\n",
    "            wrong_list.append(f\"Cod de serviço errado na planilha: {obra[0:3]}| o codigo de serviço não existe: {worksheet_codes[i]}\")\n",
    "\n",
    "\n",
    "def check_counties(valid_counties, worksheet_counties):\n",
    "    for i in range(len(worksheet_counties)):\n",
    "        if not unidecode(worksheet_counties[i].strip()) in valid_counties:\n",
    "            wrong_list.append(f\"Municipio errado na planilha: {obra[0:3]}, o municipio {worksheet_counties[i].strip()}\")\n",
    "            \n",
    "\n",
    "def check_coordinates(worksheet, collumn_name: str):\n",
    "    comma = \",\"\n",
    "    coordinates_list = []\n",
    "    for i in range(len(worksheet)):\n",
    "        coordinates_list.append(worksheet[collumn_name][i])\n",
    "    comma_list = [ a for a in coordinates_list if comma in str(a)]\n",
    "\n",
    "    if len(comma_list) != 0:\n",
    "        for i in range(len(comma_list)):\n",
    "            wrong_list.append(f\"Coordenada errada na planilha: {obra[0:3]}| esta com , no valor: {comma_list[i]}\")\n",
    "\n",
    "def check_senses(worksheet, valid_senses):  \n",
    "    for i in range(len(worksheet)):\n",
    "        if not worksheet[i] in valid_senses:\n",
    "            wrong_list.append(f\"Sentido errado na planilha: {obra[0:3]}| o sentido não existe: {worksheet[i]}\")\n",
    "\n",
    "\n",
    "def check_batch(worksheet_list, valid_batch):\n",
    "    for i in range(len(worksheet_list)):\n",
    "        if not worksheet_list[i] in valid_batch:\n",
    "            wrong_list.append(f\"Lote errado na planilha: {obra[0:3]}| o lote não existe: {worksheet_list[i]}\")\n",
    "\n",
    "\n",
    "def check_empty(worksheet, collumn_name: str):\n",
    "    empty_list = []\n",
    "    for i in range(len(worksheet)):\n",
    "        if pd.notna(worksheet[i]):\n",
    "            print(\"Achei vazio\")\n",
    "            empty_list.append(worksheet[i])\n",
    "        else:\n",
    "            print(\"não achei\")\n",
    "    if empty_list != 0:\n",
    "        wrong_list.append(f\"na planilha: {obra[0:3]} | Há campos vazios na {collumn_name}| {len(empty_list)}\")\n",
    "            \n",
    "def check_km(worksheet, collumn_name: str):\n",
    "    dot = \".\"\n",
    "    comma = \",\"\n",
    "    km_list = []\n",
    "    for i in range(len(worksheet)):\n",
    "        km_list.append(worksheet[collumn_name][i])\n",
    "    dot_list = [a for a in km_list if dot in str(a)]\n",
    "    comma_list = [ a for a in km_list if comma in str(a)]\n",
    "\n",
    "    if len(comma_list) != 0 or len(dot_list) != 0:\n",
    "        if len(comma_list) > 0:\n",
    "            for i in range(len(comma_list)):\n",
    "                wrong_list.append(f\"na planilha: {obra[0:3]} | Erro de KM, O KM {comma_list[i]}, esta com ,\")\n",
    "        else:\n",
    "            for i in range(len(dot_list)):\n",
    "                wrong_list.append(f\"na planilha: {obra[0:3]} | Erro de KM, O KM {dot_list[i]}, esta com .\")\n",
    "        return True\n",
    "    else:\n",
    "        return False"
   ]
  },
  {
   "cell_type": "code",
   "execution_count": 220,
   "metadata": {},
   "outputs": [
    {
     "ename": "ValueError",
     "evalue": "The truth value of a Series is ambiguous. Use a.empty, a.bool(), a.item(), a.any() or a.all().",
     "output_type": "error",
     "traceback": [
      "\u001b[1;31m---------------------------------------------------------------------------\u001b[0m",
      "\u001b[1;31mValueError\u001b[0m                                Traceback (most recent call last)",
      "Cell \u001b[1;32mIn[220], line 29\u001b[0m\n\u001b[0;32m     18\u001b[0m f1\u001b[39m.\u001b[39mappend(df[\u001b[39m'\u001b[39m\u001b[39mFI1\u001b[39m\u001b[39m'\u001b[39m])\n\u001b[0;32m     19\u001b[0m \u001b[39m# check_batch(lote, validItems.lotes)\u001b[39;00m\n\u001b[0;32m     20\u001b[0m \u001b[39m# check_highway(validItems.rodovias, rodovia_planilha)\u001b[39;00m\n\u001b[0;32m     21\u001b[0m \u001b[39m# check_codes(validItems.codigo_servico, cod_planilha)\u001b[39;00m\n\u001b[1;32m   (...)\u001b[0m\n\u001b[0;32m     27\u001b[0m \u001b[39m# check_coordinates(df,\"LON KM FINAL\")\u001b[39;00m\n\u001b[0;32m     28\u001b[0m \u001b[39m# check_senses(sentidos, validItems.sentido_validos)\u001b[39;00m\n\u001b[1;32m---> 29\u001b[0m check_empty(f1, \u001b[39m\"\u001b[39;49m\u001b[39mFI1\u001b[39;49m\u001b[39m\"\u001b[39;49m)\n\u001b[0;32m     30\u001b[0m \u001b[39m# check_empty(df, \"FI2\")\u001b[39;00m\n\u001b[0;32m     31\u001b[0m \u001b[39m# check_empty(df, \"FI3\")\u001b[39;00m\n\u001b[0;32m     32\u001b[0m \u001b[39m# check_empty(df, \"FI4\")\u001b[39;00m\n\u001b[1;32m   (...)\u001b[0m\n\u001b[0;32m     40\u001b[0m \u001b[39m# check_empty(df, \"NÍVEL DE SERVIÇO C/ INTERVENÇÃO\")\u001b[39;00m\n\u001b[0;32m     41\u001b[0m \u001b[39m# check_counties(treat_list(validItems.municipios), municipios_planilha)\u001b[39;00m\n",
      "Cell \u001b[1;32mIn[219], line 54\u001b[0m, in \u001b[0;36mcheck_empty\u001b[1;34m(worksheet, collumn_name)\u001b[0m\n\u001b[0;32m     52\u001b[0m empty_list \u001b[39m=\u001b[39m []\n\u001b[0;32m     53\u001b[0m \u001b[39mfor\u001b[39;00m i \u001b[39min\u001b[39;00m \u001b[39mrange\u001b[39m(\u001b[39mlen\u001b[39m(worksheet)):\n\u001b[1;32m---> 54\u001b[0m     \u001b[39mif\u001b[39;00m pd\u001b[39m.\u001b[39mnotna(worksheet[i]):\n\u001b[0;32m     55\u001b[0m         \u001b[39mprint\u001b[39m(\u001b[39m\"\u001b[39m\u001b[39mAchei vazio\u001b[39m\u001b[39m\"\u001b[39m)\n\u001b[0;32m     56\u001b[0m         empty_list\u001b[39m.\u001b[39mappend(worksheet[i])\n",
      "File \u001b[1;32m~\\AppData\\Local\\Packages\\PythonSoftwareFoundation.Python.3.10_qbz5n2kfra8p0\\LocalCache\\local-packages\\Python310\\site-packages\\pandas\\core\\generic.py:1527\u001b[0m, in \u001b[0;36mNDFrame.__nonzero__\u001b[1;34m(self)\u001b[0m\n\u001b[0;32m   1525\u001b[0m \u001b[39m@final\u001b[39m\n\u001b[0;32m   1526\u001b[0m \u001b[39mdef\u001b[39;00m \u001b[39m__nonzero__\u001b[39m(\u001b[39mself\u001b[39m) \u001b[39m-\u001b[39m\u001b[39m>\u001b[39m NoReturn:\n\u001b[1;32m-> 1527\u001b[0m     \u001b[39mraise\u001b[39;00m \u001b[39mValueError\u001b[39;00m(\n\u001b[0;32m   1528\u001b[0m         \u001b[39mf\u001b[39m\u001b[39m\"\u001b[39m\u001b[39mThe truth value of a \u001b[39m\u001b[39m{\u001b[39;00m\u001b[39mtype\u001b[39m(\u001b[39mself\u001b[39m)\u001b[39m.\u001b[39m\u001b[39m__name__\u001b[39m\u001b[39m}\u001b[39;00m\u001b[39m is ambiguous. \u001b[39m\u001b[39m\"\u001b[39m\n\u001b[0;32m   1529\u001b[0m         \u001b[39m\"\u001b[39m\u001b[39mUse a.empty, a.bool(), a.item(), a.any() or a.all().\u001b[39m\u001b[39m\"\u001b[39m\n\u001b[0;32m   1530\u001b[0m     )\n",
      "\u001b[1;31mValueError\u001b[0m: The truth value of a Series is ambiguous. Use a.empty, a.bool(), a.item(), a.any() or a.all()."
     ]
    }
   ],
   "source": [
    "wrong_list = []\n",
    "\n",
    "\n",
    "for obra in obras:\n",
    "    df = pd.read_excel(obra, sheet_name=\"DADOS\")\n",
    "    for i in range(len(df)):\n",
    "        cod_planilha = []\n",
    "        rodovia_planilha = []\n",
    "        municipios_planilha = []\n",
    "        sentidos = []\n",
    "        lote = []\n",
    "        f1 = []\n",
    "        cod_planilha.append(df[\"CÓD. DO SERVIÇO\"][i])\n",
    "        rodovia_planilha.append(df[\"RODOVIA\"][i])\n",
    "        municipios_planilha.append(unidecode(df[\"MUNICÍPIO\"][i].lower()))\n",
    "        sentidos.append(df['SENTIDO'][i])\n",
    "        lote.append(df[\"LOTE\"][i])\n",
    "        f1.append(df['FI1'])\n",
    "        # check_batch(lote, validItems.lotes)\n",
    "        # check_highway(validItems.rodovias, rodovia_planilha)\n",
    "        # check_codes(validItems.codigo_servico, cod_planilha)\n",
    "        # check_km(df, 'KM INICIAL')\n",
    "        # check_coordinates(df,\"LAT KM INICIAL\")\n",
    "        # check_coordinates(df,\"LON KM INICIAL\")\n",
    "        # check_km(df, 'KM FINAL')\n",
    "        # check_coordinates(df,\"LAT KM FINAL\")\n",
    "        # check_coordinates(df,\"LON KM FINAL\")\n",
    "        # check_senses(sentidos, validItems.sentido_validos)\n",
    "        check_empty(f1, \"FI1\")\n",
    "        # check_empty(df, \"FI2\")\n",
    "        # check_empty(df, \"FI3\")\n",
    "        # check_empty(df, \"FI4\")\n",
    "        # check_empty(df, \"FI5\")\n",
    "        # check_empty(df, \"FI6\")\n",
    "        # check_empty(df, \"FIAC\")\n",
    "        # check_empty(df, \"ALT.\")\n",
    "        # check_empty(df, \"EMPRESA RESPONSÁVEL\")\n",
    "        # check_empty(df, \"RESPONSÁVEL TÉCNICO PELA OPERAÇÃO VIÁRIA\")\n",
    "        # check_empty(df, \"ART DO RESPONSÁVEL TÉCNICO\")\n",
    "        # check_empty(df, \"NÍVEL DE SERVIÇO C/ INTERVENÇÃO\")\n",
    "        # check_counties(treat_list(validItems.municipios), municipios_planilha)"
   ]
  },
  {
   "cell_type": "code",
   "execution_count": null,
   "metadata": {},
   "outputs": [
    {
     "name": "stdout",
     "output_type": "stream",
     "text": [
      "[0     N\n",
      "1     N\n",
      "2     S\n",
      "3     N\n",
      "4     N\n",
      "5     S\n",
      "6     S\n",
      "7     N\n",
      "8     S\n",
      "9     N\n",
      "10    N\n",
      "11    N\n",
      "12    N\n",
      "13    S\n",
      "14    S\n",
      "15    N\n",
      "16    N\n",
      "17    S\n",
      "18    S\n",
      "19    N\n",
      "20    N\n",
      "21    N\n",
      "22    N\n",
      "23    N\n",
      "24    N\n",
      "25    N\n",
      "26    N\n",
      "27    S\n",
      "28    S\n",
      "29    S\n",
      "30    S\n",
      "31    S\n",
      "32    S\n",
      "33    N\n",
      "34    N\n",
      "35    N\n",
      "36    N\n",
      "37    N\n",
      "38    N\n",
      "39    N\n",
      "40    N\n",
      "41    N\n",
      "42    S\n",
      "43    S\n",
      "44    S\n",
      "45    N\n",
      "46    N\n",
      "47    N\n",
      "48    N\n",
      "49    N\n",
      "50    N\n",
      "Name: FI1, dtype: object]\n"
     ]
    }
   ],
   "source": [
    "print(f1)\n",
    "for i in range(len(wrong_list)):\n",
    "    print(wrong_list[i])"
   ]
  }
 ],
 "metadata": {
  "kernelspec": {
   "display_name": "Python 3",
   "language": "python",
   "name": "python3"
  },
  "language_info": {
   "codemirror_mode": {
    "name": "ipython",
    "version": 3
   },
   "file_extension": ".py",
   "mimetype": "text/x-python",
   "name": "python",
   "nbconvert_exporter": "python",
   "pygments_lexer": "ipython3",
   "version": "3.10.10"
  },
  "orig_nbformat": 4,
  "vscode": {
   "interpreter": {
    "hash": "c382dc940b8685aa81f2c215d25dcdaa5c83df37ced05d9ed4e8edc67801d350"
   }
  }
 },
 "nbformat": 4,
 "nbformat_minor": 2
}
