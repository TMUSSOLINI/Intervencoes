{
 "cells": [
  {
   "cell_type": "code",
   "execution_count": 33,
   "metadata": {},
   "outputs": [
    {
     "name": "stderr",
     "output_type": "stream",
     "text": [
      "c:\\Users\\Thiago Mussolini\\AppData\\Local\\Programs\\Python\\Python310\\lib\\site-packages\\openpyxl\\worksheet\\_reader.py:312: UserWarning: Unknown extension is not supported and will be removed\n",
      "  warn(msg)\n",
      "c:\\Users\\Thiago Mussolini\\AppData\\Local\\Programs\\Python\\Python310\\lib\\site-packages\\openpyxl\\worksheet\\_reader.py:296: UserWarning: Failed to load a conditional formatting rule. It will be discarded. Cause: expected <class 'float'>\n",
      "  warn(msg)\n",
      "c:\\Users\\Thiago Mussolini\\AppData\\Local\\Programs\\Python\\Python310\\lib\\site-packages\\openpyxl\\worksheet\\header_footer.py:48: UserWarning: Cannot parse header or footer so it will be ignored\n",
      "  warn(\"\"\"Cannot parse header or footer so it will be ignored\"\"\")\n",
      "c:\\Users\\Thiago Mussolini\\AppData\\Local\\Programs\\Python\\Python310\\lib\\site-packages\\openpyxl\\worksheet\\_reader.py:312: UserWarning: Conditional Formatting extension is not supported and will be removed\n",
      "  warn(msg)\n"
     ]
    }
   ],
   "source": [
    "import pandas as pd\n",
    "obra = pd.read_excel(\"L03_PLAN-PROG-SEMANAL-OBRAS- 30-01-2023 a 05-02-2023.xlsx\", sheet_name=\"DADOS\")"
   ]
  },
  {
   "cell_type": "code",
   "execution_count": 38,
   "metadata": {},
   "outputs": [
    {
     "name": "stdout",
     "output_type": "stream",
     "text": [
      "['temos um total de 7 campos vazios na FI1']\n"
     ]
    }
   ],
   "source": [
    "adde = []\n",
    "\n",
    "def check_empty(worksheet, collumn_name):\n",
    "    add = []\n",
    "    lista = []\n",
    "\n",
    "    for i in range(len(worksheet)):\n",
    "        if worksheet[collumn_name][i]:\n",
    "            add.append(worksheet[collumn_name][i])\n",
    "\n",
    "    for i in range(len(add)):\n",
    "        if \"nan\" in str(add[i]):\n",
    "            lista.append(str(add[i]))\n",
    "    if len(lista) > 0:\n",
    "        adde.append(f'temos um total de {len(lista)} campos vazios na {collumn_name}')\n",
    "\n",
    "check_empty(obra, 'FI1')\n",
    "print(adde)\n",
    "\n"
   ]
  },
  {
   "cell_type": "code",
   "execution_count": null,
   "metadata": {},
   "outputs": [],
   "source": []
  }
 ],
 "metadata": {
  "kernelspec": {
   "display_name": "Python 3",
   "language": "python",
   "name": "python3"
  },
  "language_info": {
   "codemirror_mode": {
    "name": "ipython",
    "version": 3
   },
   "file_extension": ".py",
   "mimetype": "text/x-python",
   "name": "python",
   "nbconvert_exporter": "python",
   "pygments_lexer": "ipython3",
   "version": "3.10.5"
  },
  "orig_nbformat": 4,
  "vscode": {
   "interpreter": {
    "hash": "f35266ddf69b6852d6e53acffd59ac695600fb3e5c29f77bfadb7a15b9596339"
   }
  }
 },
 "nbformat": 4,
 "nbformat_minor": 2
}
