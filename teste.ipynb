{
 "cells": [
  {
   "cell_type": "code",
   "execution_count": 5,
   "metadata": {},
   "outputs": [],
   "source": [
    "import pandas as pd\n",
    "from datetime import datetime, timedelta\n",
    "import numpy as np  \n",
    "obra = pd.read_excel(r\"L03_PLAN-PROG-SEMANAL-OBRAS- 30-01-2023 a 05-02-2023.xlsx\", sheet_name=\"DADOS\")"
   ]
  },
  {
   "cell_type": "code",
   "execution_count": 6,
   "metadata": {},
   "outputs": [],
   "source": [
    "def replacement(worksheet, collumn_name, to_alter, changed):\n",
    "    worksheet[collumn_name] = worksheet[collumn_name].replace(to_alter, changed)\n"
   ]
  },
  {
   "cell_type": "code",
   "execution_count": 7,
   "metadata": {},
   "outputs": [],
   "source": [
    "replacement(obra,'EMPRESA RESPONSÁVEL','Vine Sinalização Viária Ltda','troquei denovo')"
   ]
  },
  {
   "cell_type": "code",
   "execution_count": 8,
   "metadata": {},
   "outputs": [
    {
     "data": {
      "text/plain": [
       "0                              Troquei\n",
       "1                              Troquei\n",
       "2                       troquei denovo\n",
       "3     Ethan Transportes e Locação Ltda\n",
       "4     Ethan Transportes e Locação Ltda\n",
       "5                       troquei denovo\n",
       "6                       troquei denovo\n",
       "7                              Troquei\n",
       "8                              Troquei\n",
       "9     Ethan Transportes e Locação Ltda\n",
       "10    Ethan Transportes e Locação Ltda\n",
       "11                             Troquei\n",
       "12                             Troquei\n",
       "13                      troquei denovo\n",
       "14                             Troquei\n",
       "15    Ethan Transportes e Locação Ltda\n",
       "16    Ethan Transportes e Locação Ltda\n",
       "17                      troquei denovo\n",
       "18                      troquei denovo\n",
       "19                             Troquei\n",
       "20    Ethan Transportes e Locação Ltda\n",
       "21    Ethan Transportes e Locação Ltda\n",
       "22    Ethan Transportes e Locação Ltda\n",
       "23    Ethan Transportes e Locação Ltda\n",
       "24                             Troquei\n",
       "25                             Troquei\n",
       "26                             Troquei\n",
       "27                             Troquei\n",
       "28                             Troquei\n",
       "29                             Troquei\n",
       "30                             Troquei\n",
       "31                             Troquei\n",
       "32                             Troquei\n",
       "33                             Troquei\n",
       "34                             Troquei\n",
       "35                             Troquei\n",
       "36                             Troquei\n",
       "37                             Troquei\n",
       "38                             Troquei\n",
       "39                             Troquei\n",
       "40                             Troquei\n",
       "41                             Troquei\n",
       "42                             Troquei\n",
       "43                             Troquei\n",
       "44                             Troquei\n",
       "45                             Troquei\n",
       "46                             Troquei\n",
       "47                             Troquei\n",
       "48                             Troquei\n",
       "49                             Troquei\n",
       "50                             Troquei\n",
       "Name: EMPRESA RESPONSÁVEL, dtype: object"
      ]
     },
     "execution_count": 8,
     "metadata": {},
     "output_type": "execute_result"
    }
   ],
   "source": [
    "obra['EMPRESA RESPONSÁVEL'] = obra['EMPRESA RESPONSÁVEL'].replace(\"Concessionária de Rodovias TEBE S/A\", 'Troquei')\n",
    "obra['EMPRESA RESPONSÁVEL']"
   ]
  },
  {
   "cell_type": "code",
   "execution_count": null,
   "metadata": {},
   "outputs": [],
   "source": []
  }
 ],
 "metadata": {
  "kernelspec": {
   "display_name": "Python 3",
   "language": "python",
   "name": "python3"
  },
  "language_info": {
   "codemirror_mode": {
    "name": "ipython",
    "version": 3
   },
   "file_extension": ".py",
   "mimetype": "text/x-python",
   "name": "python",
   "nbconvert_exporter": "python",
   "pygments_lexer": "ipython3",
   "version": "3.10.10"
  },
  "orig_nbformat": 4,
  "vscode": {
   "interpreter": {
    "hash": "47e86e659cc4c7e7c8281f4dfa198d26eba569ed7d4f5779d5419dff2bd0d92c"
   }
  }
 },
 "nbformat": 4,
 "nbformat_minor": 2
}
