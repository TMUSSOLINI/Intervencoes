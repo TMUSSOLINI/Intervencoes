{
 "cells": [
  {
   "cell_type": "code",
   "execution_count": 27,
   "metadata": {},
   "outputs": [],
   "source": [
    "import pandas as pd\n",
    "from datetime import datetime\n",
    "import numpy as np  \n",
    "obra = pd.read_excel(r\"L06_PLAN-PROG-SEMANAL-OBRAS-30-01-23-05-02-23_ARTESP_Rev00.xlsx\", sheet_name=\"DADOS\")"
   ]
  },
  {
   "cell_type": "code",
   "execution_count": 28,
   "metadata": {},
   "outputs": [
    {
     "name": "stdout",
     "output_type": "stream",
     "text": [
      "Paseei\n"
     ]
    }
   ],
   "source": [
    "def check_dates(worksheet):\n",
    "    end_date = []\n",
    "    start_date = []\n",
    "    initial_date = datetime(2023,1,30)\n",
    "    final_date = datetime(2023,2,5)\n",
    "    \n",
    "    for i in range(len(worksheet)):\n",
    "        end_date.append(worksheet['DATA FIM'][i])\n",
    "        start_date.append(worksheet['DATA INÍCIO'][i])\n",
    "    \n",
    "    first_date = min(start_date)\n",
    "    last_date = max(end_date)\n",
    "\n",
    "    if initial_date != first_date or final_date != last_date:\n",
    "        print(\"Tenho periodos fora da semana vigente\")\n",
    "    else:\n",
    "        print(\"Paseei\")\n",
    "\n",
    "check_dates(obra)\n",
    "\n"
   ]
  }
 ],
 "metadata": {
  "kernelspec": {
   "display_name": "Python 3",
   "language": "python",
   "name": "python3"
  },
  "language_info": {
   "codemirror_mode": {
    "name": "ipython",
    "version": 3
   },
   "file_extension": ".py",
   "mimetype": "text/x-python",
   "name": "python",
   "nbconvert_exporter": "python",
   "pygments_lexer": "ipython3",
   "version": "3.10.10"
  },
  "orig_nbformat": 4,
  "vscode": {
   "interpreter": {
    "hash": "47e86e659cc4c7e7c8281f4dfa198d26eba569ed7d4f5779d5419dff2bd0d92c"
   }
  }
 },
 "nbformat": 4,
 "nbformat_minor": 2
}
