{
 "cells": [
  {
   "cell_type": "code",
   "execution_count": 2,
   "metadata": {},
   "outputs": [
    {
     "name": "stdout",
     "output_type": "stream",
     "text": [
      "['-21.391089', '-21.391089', '-21.391089', '-21.391089']\n"
     ]
    }
   ],
   "source": [
    "lista_palavra = [\"-21.391089\",\"-21.391089\",\"-21.391089\", \"-21.391089\", \"-22,09876\"]\n",
    "comma = \",\"\n",
    "dot = \".\"\n",
    "\n",
    "search = [s for s in lista_palavra if dot in s]\n",
    "\n",
    "print(search)\n",
    "\n",
    "# for i in range(len(lista_palavra)):\n",
    "#     procura = lista_palavra[i]\n",
    "#     procura = str(procura)\n",
    "#     if procura[0:4].find(\",\"):\n",
    "#         print(\"Achei\")\n",
    "#     else:\n",
    "#         print(\"Não achei\")"
   ]
  },
  {
   "cell_type": "code",
   "execution_count": 3,
   "metadata": {},
   "outputs": [
    {
     "data": {
      "text/plain": [
       "True"
      ]
     },
     "execution_count": 3,
     "metadata": {},
     "output_type": "execute_result"
    }
   ],
   "source": [
    "\n",
    "\n",
    "\n",
    "\"N\" in sentido_validos"
   ]
  },
  {
   "cell_type": "code",
   "execution_count": null,
   "metadata": {},
   "outputs": [],
   "source": []
  }
 ],
 "metadata": {
  "kernelspec": {
   "display_name": "venv",
   "language": "python",
   "name": "python3"
  },
  "language_info": {
   "codemirror_mode": {
    "name": "ipython",
    "version": 3
   },
   "file_extension": ".py",
   "mimetype": "text/x-python",
   "name": "python",
   "nbconvert_exporter": "python",
   "pygments_lexer": "ipython3",
   "version": "3.10.5"
  },
  "orig_nbformat": 4,
  "vscode": {
   "interpreter": {
    "hash": "c5372157ca88b684f782dd61ced90b1fe94652afe2964c70fdf67148e6559f49"
   }
  }
 },
 "nbformat": 4,
 "nbformat_minor": 2
}
