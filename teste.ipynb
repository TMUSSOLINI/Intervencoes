{
 "cells": [
  {
   "cell_type": "code",
   "execution_count": 9,
   "metadata": {},
   "outputs": [
    {
     "name": "stderr",
     "output_type": "stream",
     "text": [
      "c:\\Users\\Thiago Mussolini\\AppData\\Local\\Programs\\Python\\Python310\\lib\\site-packages\\openpyxl\\worksheet\\_reader.py:312: UserWarning: Unknown extension is not supported and will be removed\n",
      "  warn(msg)\n",
      "c:\\Users\\Thiago Mussolini\\AppData\\Local\\Programs\\Python\\Python310\\lib\\site-packages\\openpyxl\\worksheet\\_reader.py:296: UserWarning: Failed to load a conditional formatting rule. It will be discarded. Cause: expected <class 'float'>\n",
      "  warn(msg)\n",
      "c:\\Users\\Thiago Mussolini\\AppData\\Local\\Programs\\Python\\Python310\\lib\\site-packages\\openpyxl\\worksheet\\header_footer.py:48: UserWarning: Cannot parse header or footer so it will be ignored\n",
      "  warn(\"\"\"Cannot parse header or footer so it will be ignored\"\"\")\n",
      "c:\\Users\\Thiago Mussolini\\AppData\\Local\\Programs\\Python\\Python310\\lib\\site-packages\\openpyxl\\worksheet\\_reader.py:312: UserWarning: Conditional Formatting extension is not supported and will be removed\n",
      "  warn(msg)\n"
     ]
    }
   ],
   "source": [
    "import pandas as pd\n",
    "obra = pd.read_excel(r\"L28_Programação Semanal - 30.01.23 a 05.02.23_RV01.xlsx\", sheet_name=\"DADOS\")"
   ]
  },
  {
   "cell_type": "code",
   "execution_count": 10,
   "metadata": {},
   "outputs": [
    {
     "name": "stdout",
     "output_type": "stream",
     "text": [
      "0       False\n",
      "1       False\n",
      "2       False\n",
      "3       False\n",
      "4       False\n",
      "        ...  \n",
      "4404    False\n",
      "4405    False\n",
      "4406    False\n",
      "4407    False\n",
      "4408    False\n",
      "Name: EMPRESA RESPONSÁVEL, Length: 4409, dtype: bool\n"
     ]
    }
   ],
   "source": [
    "print(pd.isna(obra['EMPRESA RESPONSÁVEL']))"
   ]
  },
  {
   "cell_type": "code",
   "execution_count": 11,
   "metadata": {},
   "outputs": [
    {
     "name": "stdout",
     "output_type": "stream",
     "text": [
      "['temos um total de 189 campos vazios na EMPRESA RESPONSÁVEL']\n"
     ]
    }
   ],
   "source": [
    "adde = []\n",
    "\n",
    "def check_empty(worksheet, collumn_name):\n",
    "    add = []\n",
    "    lista = []\n",
    "\n",
    "    for i in range(len(worksheet)):\n",
    "        if worksheet[collumn_name][i]:\n",
    "            add.append(worksheet[collumn_name][i])\n",
    "\n",
    "    for i in range(len(add)):\n",
    "        if \"nan\" in str(add[i]):\n",
    "            lista.append(str(add[i]))\n",
    "    if len(lista) > 0:\n",
    "        adde.append(f'temos um total de {len(lista)} campos vazios na {collumn_name}')\n",
    "\n",
    "check_empty(obra, 'EMPRESA RESPONSÁVEL')\n",
    "print(adde)\n",
    "\n"
   ]
  },
  {
   "cell_type": "code",
   "execution_count": null,
   "metadata": {},
   "outputs": [],
   "source": []
  }
 ],
 "metadata": {
  "kernelspec": {
   "display_name": "Python 3",
   "language": "python",
   "name": "python3"
  },
  "language_info": {
   "codemirror_mode": {
    "name": "ipython",
    "version": 3
   },
   "file_extension": ".py",
   "mimetype": "text/x-python",
   "name": "python",
   "nbconvert_exporter": "python",
   "pygments_lexer": "ipython3",
   "version": "3.10.5"
  },
  "orig_nbformat": 4,
  "vscode": {
   "interpreter": {
    "hash": "f35266ddf69b6852d6e53acffd59ac695600fb3e5c29f77bfadb7a15b9596339"
   }
  }
 },
 "nbformat": 4,
 "nbformat_minor": 2
}
